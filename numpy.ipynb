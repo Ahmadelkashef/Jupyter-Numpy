{
 "cells": [
  {
   "cell_type": "code",
   "execution_count": 1,
   "id": "667d9cc2",
   "metadata": {
    "_cell_guid": "b1076dfc-b9ad-4769-8c92-a6c4dae69d19",
    "_uuid": "8f2839f25d086af736a60e9eeb907d3b93b6e0e5",
    "execution": {
     "iopub.execute_input": "2022-02-05T22:31:18.276548Z",
     "iopub.status.busy": "2022-02-05T22:31:18.275265Z",
     "iopub.status.idle": "2022-02-05T22:31:18.285890Z",
     "shell.execute_reply": "2022-02-05T22:31:18.286416Z",
     "shell.execute_reply.started": "2022-02-05T19:31:58.869579Z"
    },
    "papermill": {
     "duration": 0.098358,
     "end_time": "2022-02-05T22:31:18.286840",
     "exception": false,
     "start_time": "2022-02-05T22:31:18.188482",
     "status": "completed"
    },
    "tags": []
   },
   "outputs": [],
   "source": [
    "# This Python 3 environment comes with many helpful analytics libraries installed\n",
    "# It is defined by the kaggle/python Docker image: https://github.com/kaggle/docker-python\n",
    "# For example, here's several helpful packages to load\n",
    "\n",
    "import numpy as np # linear algebra\n",
    "import pandas as pd # data processing, CSV file I/O (e.g. pd.read_csv)\n",
    "\n",
    "# Input data files are available in the read-only \"../input/\" directory\n",
    "# For example, running this (by clicking run or pressing Shift+Enter) will list all files under the input directory\n",
    "\n",
    "import os\n",
    "for dirname, _, filenames in os.walk('/kaggle/input'):\n",
    "    for filename in filenames:\n",
    "        print(os.path.join(dirname, filename))\n",
    "\n",
    "# You can write up to 20GB to the current directory (/kaggle/working/) that gets preserved as output when you create a version using \"Save & Run All\" \n",
    "# You can also write temporary files to /kaggle/temp/, but they won't be saved outside of the current session"
   ]
  },
  {
   "cell_type": "code",
   "execution_count": 2,
   "id": "79f48904",
   "metadata": {
    "execution": {
     "iopub.execute_input": "2022-02-05T22:31:18.450751Z",
     "iopub.status.busy": "2022-02-05T22:31:18.449943Z",
     "iopub.status.idle": "2022-02-05T22:31:39.549893Z",
     "shell.execute_reply": "2022-02-05T22:31:39.549322Z",
     "shell.execute_reply.started": "2022-02-05T19:32:23.752214Z"
    },
    "papermill": {
     "duration": 21.18384,
     "end_time": "2022-02-05T22:31:39.550044",
     "exception": false,
     "start_time": "2022-02-05T22:31:18.366204",
     "status": "completed"
    },
    "tags": []
   },
   "outputs": [
    {
     "name": "stdout",
     "output_type": "stream",
     "text": [
      "19.97715926170349\n",
      "0.06929802894592285\n"
     ]
    }
   ],
   "source": [
    "# Why use NumPy?\n",
    "import time\n",
    "import numpy as np\n",
    "x = np.random.random(100000000)\n",
    "\n",
    "# Case 1\n",
    "start = time.time()\n",
    "sum(x) / len(x)\n",
    "print(time.time() - start)\n",
    "\n",
    "# Case 2\n",
    "start = time.time()\n",
    "np.mean(x)\n",
    "print(time.time() - start)"
   ]
  },
  {
   "cell_type": "code",
   "execution_count": 3,
   "id": "ce1cc86f",
   "metadata": {
    "execution": {
     "iopub.execute_input": "2022-02-05T22:31:39.718319Z",
     "iopub.status.busy": "2022-02-05T22:31:39.717321Z",
     "iopub.status.idle": "2022-02-05T22:31:39.722531Z",
     "shell.execute_reply": "2022-02-05T22:31:39.723102Z",
     "shell.execute_reply.started": "2022-02-05T19:42:24.562871Z"
    },
    "papermill": {
     "duration": 0.093284,
     "end_time": "2022-02-05T22:31:39.723274",
     "exception": false,
     "start_time": "2022-02-05T22:31:39.629990",
     "status": "completed"
    },
    "tags": []
   },
   "outputs": [
    {
     "name": "stdout",
     "output_type": "stream",
     "text": [
      "x =  [1 2 3 4 5]\n"
     ]
    }
   ],
   "source": [
    "# We create a 1D ndarray that contains only integers\n",
    "x = np.array([1, 2, 3, 4, 5])\n",
    "\n",
    "# Let's print the ndarray we just created using the print() command\n",
    "print('x = ', x)"
   ]
  },
  {
   "cell_type": "code",
   "execution_count": 4,
   "id": "527cfbd2",
   "metadata": {
    "execution": {
     "iopub.execute_input": "2022-02-05T22:31:39.888837Z",
     "iopub.status.busy": "2022-02-05T22:31:39.888085Z",
     "iopub.status.idle": "2022-02-05T22:31:39.896221Z",
     "shell.execute_reply": "2022-02-05T22:31:39.896930Z",
     "shell.execute_reply.started": "2022-02-05T19:44:55.471914Z"
    },
    "papermill": {
     "duration": 0.092663,
     "end_time": "2022-02-05T22:31:39.897132",
     "exception": false,
     "start_time": "2022-02-05T22:31:39.804469",
     "status": "completed"
    },
    "tags": []
   },
   "outputs": [
    {
     "name": "stdout",
     "output_type": "stream",
     "text": [
      "1\n",
      "2\n",
      "3\n"
     ]
    }
   ],
   "source": [
    "#Rank of an Array (numpy.ndarray.ndim)\n",
    "\n",
    "#Syntax:\n",
    "\n",
    "#ndarray.ndim\n",
    "\n",
    "# 1-D array\n",
    "x = np.array([1, 2, 3])\n",
    "print(x.ndim)\n",
    "\n",
    "# 2-D array\n",
    "Y = np.array([[1,2,3],[4,5,6],[7,8,9], [10,11,12]])\n",
    "print(Y.ndim)\n",
    "\n",
    "# Here the`zeros()` is an inbuilt function that you'll study on the next page. \n",
    "# The tuple (2, 3, 4( passed as an argument represents the shape of the ndarray\n",
    "y = np.zeros((2, 3, 4))\n",
    "print(y.ndim)"
   ]
  },
  {
   "cell_type": "code",
   "execution_count": 5,
   "id": "17002b7a",
   "metadata": {
    "execution": {
     "iopub.execute_input": "2022-02-05T22:31:40.064448Z",
     "iopub.status.busy": "2022-02-05T22:31:40.063408Z",
     "iopub.status.idle": "2022-02-05T22:31:40.071753Z",
     "shell.execute_reply": "2022-02-05T22:31:40.072304Z",
     "shell.execute_reply.started": "2022-02-05T19:46:12.880760Z"
    },
    "papermill": {
     "duration": 0.0936,
     "end_time": "2022-02-05T22:31:40.072488",
     "exception": false,
     "start_time": "2022-02-05T22:31:39.978888",
     "status": "completed"
    },
    "tags": []
   },
   "outputs": [
    {
     "name": "stdout",
     "output_type": "stream",
     "text": [
      "x =  [1 2 3 4 5]\n",
      "x has dimensions: (5,)\n",
      "x is an object of type: <class 'numpy.ndarray'>\n",
      "The elements in x are of type: int64\n"
     ]
    }
   ],
   "source": [
    "# We create a 1D ndarray that contains only integers\n",
    "x = np.array([1, 2, 3, 4, 5])\n",
    "\n",
    "# We print information about x\n",
    "print('x = ', x)\n",
    "print('x has dimensions:', x.shape)\n",
    "print('x is an object of type:', type(x))\n",
    "print('The elements in x are of type:', x.dtype)"
   ]
  },
  {
   "cell_type": "code",
   "execution_count": 6,
   "id": "e6191355",
   "metadata": {
    "execution": {
     "iopub.execute_input": "2022-02-05T22:31:40.244483Z",
     "iopub.status.busy": "2022-02-05T22:31:40.243303Z",
     "iopub.status.idle": "2022-02-05T22:31:40.247061Z",
     "shell.execute_reply": "2022-02-05T22:31:40.247618Z",
     "shell.execute_reply.started": "2022-02-05T19:47:04.050777Z"
    },
    "papermill": {
     "duration": 0.092978,
     "end_time": "2022-02-05T22:31:40.247796",
     "exception": false,
     "start_time": "2022-02-05T22:31:40.154818",
     "status": "completed"
    },
    "tags": []
   },
   "outputs": [
    {
     "name": "stdout",
     "output_type": "stream",
     "text": [
      "x =  ['Hello' 'World']\n",
      "x has dimensions: (2,)\n",
      "x is an object of type: <class 'numpy.ndarray'>\n",
      "The elements in x are of type: <U5\n"
     ]
    }
   ],
   "source": [
    "# We create a rank 1 ndarray that only contains strings\n",
    "x = np.array(['Hello', 'World'])\n",
    "\n",
    "# We print information about x\n",
    "print('x = ', x)\n",
    "print('x has dimensions:', x.shape)\n",
    "print('x is an object of type:', type(x))\n",
    "print('The elements in x are of type:', x.dtype)"
   ]
  },
  {
   "cell_type": "code",
   "execution_count": 7,
   "id": "6f16834b",
   "metadata": {
    "execution": {
     "iopub.execute_input": "2022-02-05T22:31:40.413983Z",
     "iopub.status.busy": "2022-02-05T22:31:40.413170Z",
     "iopub.status.idle": "2022-02-05T22:31:40.416422Z",
     "shell.execute_reply": "2022-02-05T22:31:40.416972Z",
     "shell.execute_reply.started": "2022-02-05T19:47:35.741382Z"
    },
    "papermill": {
     "duration": 0.089375,
     "end_time": "2022-02-05T22:31:40.417146",
     "exception": false,
     "start_time": "2022-02-05T22:31:40.327771",
     "status": "completed"
    },
    "tags": []
   },
   "outputs": [
    {
     "name": "stdout",
     "output_type": "stream",
     "text": [
      "x =  ['1' '2' 'World']\n",
      "x has dimensions: (3,)\n",
      "x is an object of type: <class 'numpy.ndarray'>\n",
      "The elements in x are of type: <U21\n"
     ]
    }
   ],
   "source": [
    "# We create a rank 1 ndarray from a Python list that contains integers and strings\n",
    "x = np.array([1, 2, 'World'])\n",
    "\n",
    "# We print information about x\n",
    "print('x = ', x)\n",
    "print('x has dimensions:', x.shape)\n",
    "print('x is an object of type:', type(x))\n",
    "print('The elements in x are of type:', x.dtype)"
   ]
  },
  {
   "cell_type": "code",
   "execution_count": 8,
   "id": "621a45a2",
   "metadata": {
    "execution": {
     "iopub.execute_input": "2022-02-05T22:31:40.588471Z",
     "iopub.status.busy": "2022-02-05T22:31:40.587657Z",
     "iopub.status.idle": "2022-02-05T22:31:40.591616Z",
     "shell.execute_reply": "2022-02-05T22:31:40.590964Z",
     "shell.execute_reply.started": "2022-02-05T19:48:25.139804Z"
    },
    "papermill": {
     "duration": 0.094114,
     "end_time": "2022-02-05T22:31:40.591757",
     "exception": false,
     "start_time": "2022-02-05T22:31:40.497643",
     "status": "completed"
    },
    "tags": []
   },
   "outputs": [
    {
     "name": "stdout",
     "output_type": "stream",
     "text": [
      "The elements in x are of type: int64\n",
      "The elements in y are of type: float64\n",
      "The elements in z are of type: float64\n"
     ]
    }
   ],
   "source": [
    "# We create a rank 1 ndarray that contains integers\n",
    "x = np.array([1,2,3])\n",
    "\n",
    "# We create a rank 1 ndarray that contains floats\n",
    "y = np.array([1.0,2.0,3.0])\n",
    "\n",
    "# We create a rank 1 ndarray that contains integers and floats\n",
    "z = np.array([1, 2.5, 4])\n",
    "\n",
    "# We print the dtype of each ndarray\n",
    "print('The elements in x are of type:', x.dtype)\n",
    "print('The elements in y are of type:', y.dtype)\n",
    "print('The elements in z are of type:', z.dtype)"
   ]
  },
  {
   "cell_type": "code",
   "execution_count": 9,
   "id": "3a85528a",
   "metadata": {
    "execution": {
     "iopub.execute_input": "2022-02-05T22:31:40.764525Z",
     "iopub.status.busy": "2022-02-05T22:31:40.763430Z",
     "iopub.status.idle": "2022-02-05T22:31:40.767430Z",
     "shell.execute_reply": "2022-02-05T22:31:40.768274Z",
     "shell.execute_reply.started": "2022-02-05T19:49:03.110370Z"
    },
    "papermill": {
     "duration": 0.095802,
     "end_time": "2022-02-05T22:31:40.768535",
     "exception": false,
     "start_time": "2022-02-05T22:31:40.672733",
     "status": "completed"
    },
    "tags": []
   },
   "outputs": [
    {
     "name": "stdout",
     "output_type": "stream",
     "text": [
      "x =  [1 2 3 4 5]\n",
      "The elements in x are of type: int64\n"
     ]
    }
   ],
   "source": [
    "# We create a rank 1 ndarray of floats but set the dtype to int64\n",
    "x = np.array([1.5, 2.2, 3.7, 4.0, 5.9], dtype = np.int64)\n",
    "\n",
    "# We print the dtype x\n",
    "print('x = ', x)\n",
    "print('The elements in x are of type:', x.dtype)"
   ]
  },
  {
   "cell_type": "code",
   "execution_count": 10,
   "id": "4d0891b9",
   "metadata": {
    "execution": {
     "iopub.execute_input": "2022-02-05T22:31:40.945297Z",
     "iopub.status.busy": "2022-02-05T22:31:40.944136Z",
     "iopub.status.idle": "2022-02-05T22:31:40.951121Z",
     "shell.execute_reply": "2022-02-05T22:31:40.950175Z",
     "shell.execute_reply.started": "2022-02-05T19:49:42.230652Z"
    },
    "papermill": {
     "duration": 0.099053,
     "end_time": "2022-02-05T22:31:40.951321",
     "exception": false,
     "start_time": "2022-02-05T22:31:40.852268",
     "status": "completed"
    },
    "tags": []
   },
   "outputs": [
    {
     "name": "stdout",
     "output_type": "stream",
     "text": [
      "Y = \n",
      " [[ 1  2  3]\n",
      " [ 4  5  6]\n",
      " [ 7  8  9]\n",
      " [10 11 12]]\n",
      "Y has dimensions: (4, 3)\n",
      "Y has a total of 12 elements\n",
      "Y is an object of type: <class 'numpy.ndarray'>\n",
      "The elements in Y are of type: int64\n"
     ]
    }
   ],
   "source": [
    "# We create a rank 2 ndarray that only contains integers\n",
    "Y = np.array([[1,2,3],[4,5,6],[7,8,9], [10,11,12]])\n",
    "\n",
    "print('Y = \\n', Y)\n",
    "\n",
    "# We print information about Y\n",
    "print('Y has dimensions:', Y.shape)\n",
    "print('Y has a total of', Y.size, 'elements')\n",
    "print('Y is an object of type:', type(Y))\n",
    "print('The elements in Y are of type:', Y.dtype)"
   ]
  },
  {
   "cell_type": "code",
   "execution_count": 11,
   "id": "d654824c",
   "metadata": {
    "execution": {
     "iopub.execute_input": "2022-02-05T22:31:41.126975Z",
     "iopub.status.busy": "2022-02-05T22:31:41.125836Z",
     "iopub.status.idle": "2022-02-05T22:31:41.134417Z",
     "shell.execute_reply": "2022-02-05T22:31:41.133095Z",
     "shell.execute_reply.started": "2022-02-05T19:51:25.840738Z"
    },
    "papermill": {
     "duration": 0.098895,
     "end_time": "2022-02-05T22:31:41.134679",
     "exception": false,
     "start_time": "2022-02-05T22:31:41.035784",
     "status": "completed"
    },
    "tags": []
   },
   "outputs": [
    {
     "name": "stdout",
     "output_type": "stream",
     "text": [
      "\n",
      "y =  [1 2 3 4 5]\n",
      "\n",
      "y is an object of type: <class 'numpy.ndarray'>\n",
      "The elements in y are of type: int64\n"
     ]
    }
   ],
   "source": [
    "# We create a rank 1 ndarray\n",
    "x = np.array([1, 2, 3, 4, 5])\n",
    "\n",
    "# We save x into the current directory as \n",
    "np.save('my_array', x)\n",
    "\n",
    "# We load the saved array from our current directory into variable y\n",
    "y = np.load('my_array.npy')\n",
    "\n",
    "# We print y\n",
    "print()\n",
    "print('y = ', y)\n",
    "print()\n",
    "\n",
    "# We print information about the ndarray we loaded\n",
    "print('y is an object of type:', type(y))\n",
    "print('The elements in y are of type:', y.dtype)"
   ]
  },
  {
   "cell_type": "code",
   "execution_count": 12,
   "id": "fcb43a58",
   "metadata": {
    "execution": {
     "iopub.execute_input": "2022-02-05T22:31:41.313741Z",
     "iopub.status.busy": "2022-02-05T22:31:41.312604Z",
     "iopub.status.idle": "2022-02-05T22:31:41.320013Z",
     "shell.execute_reply": "2022-02-05T22:31:41.318616Z",
     "shell.execute_reply.started": "2022-02-05T19:58:06.813590Z"
    },
    "papermill": {
     "duration": 0.097909,
     "end_time": "2022-02-05T22:31:41.320254",
     "exception": false,
     "start_time": "2022-02-05T22:31:41.222345",
     "status": "completed"
    },
    "tags": []
   },
   "outputs": [
    {
     "name": "stdout",
     "output_type": "stream",
     "text": [
      "\n",
      "X = \n",
      " [[0. 0. 0. 0.]\n",
      " [0. 0. 0. 0.]\n",
      " [0. 0. 0. 0.]]\n",
      "\n",
      "X has dimensions: (3, 4)\n",
      "X is an object of type: <class 'numpy.ndarray'>\n",
      "The elements in X are of type: float64\n"
     ]
    }
   ],
   "source": [
    "# Using Built-in Functions to Create ndarrays.ipynb\n",
    "\n",
    "# We create a 3 x 4 ndarray full of zeros. \n",
    "X = np.zeros((3,4))\n",
    "\n",
    "# We print X\n",
    "print()\n",
    "print('X = \\n', X)\n",
    "print()\n",
    "\n",
    "# We print information about X\n",
    "print('X has dimensions:', X.shape)\n",
    "print('X is an object of type:', type(X))\n",
    "print('The elements in X are of type:', X.dtype)"
   ]
  },
  {
   "cell_type": "code",
   "execution_count": 13,
   "id": "5c8e97a7",
   "metadata": {
    "execution": {
     "iopub.execute_input": "2022-02-05T22:31:41.499101Z",
     "iopub.status.busy": "2022-02-05T22:31:41.498255Z",
     "iopub.status.idle": "2022-02-05T22:31:41.501726Z",
     "shell.execute_reply": "2022-02-05T22:31:41.502329Z",
     "shell.execute_reply.started": "2022-02-05T19:59:03.762769Z"
    },
    "papermill": {
     "duration": 0.094206,
     "end_time": "2022-02-05T22:31:41.502521",
     "exception": false,
     "start_time": "2022-02-05T22:31:41.408315",
     "status": "completed"
    },
    "tags": []
   },
   "outputs": [
    {
     "name": "stdout",
     "output_type": "stream",
     "text": [
      "\n",
      "X = \n",
      " [[1. 1.]\n",
      " [1. 1.]\n",
      " [1. 1.]]\n",
      "\n",
      "X has dimensions: (3, 2)\n",
      "X is an object of type: <class 'numpy.ndarray'>\n",
      "The elements in X are of type: float64\n"
     ]
    }
   ],
   "source": [
    "# We create a 3 x 2 ndarray full of ones. \n",
    "X = np.ones((3,2))\n",
    "\n",
    "# We print X\n",
    "print()\n",
    "print('X = \\n', X)\n",
    "print()\n",
    "\n",
    "# We print information about X\n",
    "print('X has dimensions:', X.shape)\n",
    "print('X is an object of type:', type(X))\n",
    "print('The elements in X are of type:', X.dtype)"
   ]
  },
  {
   "cell_type": "code",
   "execution_count": 14,
   "id": "a982cb0d",
   "metadata": {
    "execution": {
     "iopub.execute_input": "2022-02-05T22:31:41.674559Z",
     "iopub.status.busy": "2022-02-05T22:31:41.673834Z",
     "iopub.status.idle": "2022-02-05T22:31:41.678178Z",
     "shell.execute_reply": "2022-02-05T22:31:41.678918Z",
     "shell.execute_reply.started": "2022-02-05T19:59:33.114787Z"
    },
    "papermill": {
     "duration": 0.093211,
     "end_time": "2022-02-05T22:31:41.679151",
     "exception": false,
     "start_time": "2022-02-05T22:31:41.585940",
     "status": "completed"
    },
    "tags": []
   },
   "outputs": [
    {
     "name": "stdout",
     "output_type": "stream",
     "text": [
      "\n",
      "X = \n",
      " [[5 5 5]\n",
      " [5 5 5]]\n",
      "\n",
      "X has dimensions: (2, 3)\n",
      "X is an object of type: <class 'numpy.ndarray'>\n",
      "The elements in X are of type: int64\n"
     ]
    }
   ],
   "source": [
    "# We create a 2 x 3 ndarray full of fives. \n",
    "X = np.full((2,3), 5) \n",
    "\n",
    "# We print X\n",
    "print()\n",
    "print('X = \\n', X)\n",
    "print()\n",
    "\n",
    "# We print information about X\n",
    "print('X has dimensions:', X.shape)\n",
    "print('X is an object of type:', type(X))\n",
    "print('The elements in X are of type:', X.dtype)  "
   ]
  },
  {
   "cell_type": "code",
   "execution_count": 15,
   "id": "4d403c43",
   "metadata": {
    "execution": {
     "iopub.execute_input": "2022-02-05T22:31:41.853641Z",
     "iopub.status.busy": "2022-02-05T22:31:41.852929Z",
     "iopub.status.idle": "2022-02-05T22:31:41.855126Z",
     "shell.execute_reply": "2022-02-05T22:31:41.854613Z",
     "shell.execute_reply.started": "2022-02-05T20:02:47.421133Z"
    },
    "papermill": {
     "duration": 0.089473,
     "end_time": "2022-02-05T22:31:41.855262",
     "exception": false,
     "start_time": "2022-02-05T22:31:41.765789",
     "status": "completed"
    },
    "tags": []
   },
   "outputs": [],
   "source": [
    "# a fundamental array in Linear Algebra is the Identity Matrix. \n",
    "#An Identity matrix is a square matrix that \n",
    "#has only 1s in its main diagonal and zeros everywhere else. \n",
    "#The function np.eye(N) creates a square N x N ndarray corresponding to the Identity matrix.\n",
    "#Since all Identity Matrices are square, \n",
    "#the np.eye() function only takes a single integer as an argument."
   ]
  },
  {
   "cell_type": "code",
   "execution_count": 16,
   "id": "38976802",
   "metadata": {
    "execution": {
     "iopub.execute_input": "2022-02-05T22:31:42.032062Z",
     "iopub.status.busy": "2022-02-05T22:31:42.030940Z",
     "iopub.status.idle": "2022-02-05T22:31:42.034465Z",
     "shell.execute_reply": "2022-02-05T22:31:42.035331Z",
     "shell.execute_reply.started": "2022-02-05T20:03:36.821073Z"
    },
    "papermill": {
     "duration": 0.094977,
     "end_time": "2022-02-05T22:31:42.035704",
     "exception": false,
     "start_time": "2022-02-05T22:31:41.940727",
     "status": "completed"
    },
    "tags": []
   },
   "outputs": [
    {
     "name": "stdout",
     "output_type": "stream",
     "text": [
      "\n",
      "X = \n",
      " [[1. 0. 0. 0. 0.]\n",
      " [0. 1. 0. 0. 0.]\n",
      " [0. 0. 1. 0. 0.]\n",
      " [0. 0. 0. 1. 0.]\n",
      " [0. 0. 0. 0. 1.]]\n",
      "\n",
      "X has dimensions: (5, 5)\n",
      "X is an object of type: <class 'numpy.ndarray'>\n",
      "The elements in X are of type: float64\n"
     ]
    }
   ],
   "source": [
    "# We create a 5 x 5 Identity matrix. \n",
    "X = np.eye(5)\n",
    "\n",
    "# We print X\n",
    "print()\n",
    "print('X = \\n', X)\n",
    "print()\n",
    "\n",
    "# We print information about X\n",
    "print('X has dimensions:', X.shape)\n",
    "print('X is an object of type:', type(X))\n",
    "print('The elements in X are of type:', X.dtype)"
   ]
  },
  {
   "cell_type": "code",
   "execution_count": 17,
   "id": "0d2e709c",
   "metadata": {
    "execution": {
     "iopub.execute_input": "2022-02-05T22:31:42.209987Z",
     "iopub.status.busy": "2022-02-05T22:31:42.209070Z",
     "iopub.status.idle": "2022-02-05T22:31:42.211646Z",
     "shell.execute_reply": "2022-02-05T22:31:42.211071Z",
     "shell.execute_reply.started": "2022-02-05T20:06:01.763833Z"
    },
    "papermill": {
     "duration": 0.090616,
     "end_time": "2022-02-05T22:31:42.211796",
     "exception": false,
     "start_time": "2022-02-05T22:31:42.121180",
     "status": "completed"
    },
    "tags": []
   },
   "outputs": [],
   "source": [
    "#As we can see, the np.eye() function also creates by default an array with dtype float64.\n",
    "#If desired, the data type can be changed by using the keyword dtype.\n",
    "#We can also create diagonal matrices by using the np.diag() function.\n",
    "#A diagonal matrix is a square matrix that only has values in its main diagonal.\n",
    "#The np.diag() function creates an ndarray corresponding to a diagonal matrix"
   ]
  },
  {
   "cell_type": "code",
   "execution_count": 18,
   "id": "e63c4618",
   "metadata": {
    "execution": {
     "iopub.execute_input": "2022-02-05T22:31:42.386697Z",
     "iopub.status.busy": "2022-02-05T22:31:42.385459Z",
     "iopub.status.idle": "2022-02-05T22:31:42.389336Z",
     "shell.execute_reply": "2022-02-05T22:31:42.390101Z",
     "shell.execute_reply.started": "2022-02-05T20:06:22.114738Z"
    },
    "papermill": {
     "duration": 0.094861,
     "end_time": "2022-02-05T22:31:42.390342",
     "exception": false,
     "start_time": "2022-02-05T22:31:42.295481",
     "status": "completed"
    },
    "tags": []
   },
   "outputs": [
    {
     "name": "stdout",
     "output_type": "stream",
     "text": [
      "\n",
      "X = \n",
      " [[10  0  0  0]\n",
      " [ 0 20  0  0]\n",
      " [ 0  0 30  0]\n",
      " [ 0  0  0 50]]\n",
      "\n"
     ]
    }
   ],
   "source": [
    "# Create a 4 x 4 diagonal matrix that contains the numbers 10,20,30, and 50\n",
    "# on its main diagonal\n",
    "X = np.diag([10,20,30,50])\n",
    "\n",
    "# We print X\n",
    "print()\n",
    "print('X = \\n', X)\n",
    "print()"
   ]
  },
  {
   "cell_type": "code",
   "execution_count": 19,
   "id": "cbffcb8a",
   "metadata": {
    "execution": {
     "iopub.execute_input": "2022-02-05T22:31:42.573670Z",
     "iopub.status.busy": "2022-02-05T22:31:42.572648Z",
     "iopub.status.idle": "2022-02-05T22:31:42.575889Z",
     "shell.execute_reply": "2022-02-05T22:31:42.575161Z",
     "shell.execute_reply.started": "2022-02-05T20:08:03.872969Z"
    },
    "papermill": {
     "duration": 0.09694,
     "end_time": "2022-02-05T22:31:42.576052",
     "exception": false,
     "start_time": "2022-02-05T22:31:42.479112",
     "status": "completed"
    },
    "tags": []
   },
   "outputs": [],
   "source": [
    "# numpy.arange\n",
    "\n",
    "# Syntax:\n",
    "\n",
    "# numpy.arange([start, ]stop, [step, ]dtype=None)\n"
   ]
  },
  {
   "cell_type": "code",
   "execution_count": 20,
   "id": "270b4128",
   "metadata": {
    "execution": {
     "iopub.execute_input": "2022-02-05T22:31:42.753242Z",
     "iopub.status.busy": "2022-02-05T22:31:42.752094Z",
     "iopub.status.idle": "2022-02-05T22:31:42.757419Z",
     "shell.execute_reply": "2022-02-05T22:31:42.756775Z",
     "shell.execute_reply.started": "2022-02-05T20:08:16.171442Z"
    },
    "papermill": {
     "duration": 0.097281,
     "end_time": "2022-02-05T22:31:42.757595",
     "exception": false,
     "start_time": "2022-02-05T22:31:42.660314",
     "status": "completed"
    },
    "tags": []
   },
   "outputs": [
    {
     "name": "stdout",
     "output_type": "stream",
     "text": [
      "\n",
      "x =  [0 1 2 3 4 5 6 7 8 9]\n",
      "\n",
      "x has dimensions: (10,)\n",
      "x is an object of type: <class 'numpy.ndarray'>\n",
      "The elements in x are of type: int64\n"
     ]
    }
   ],
   "source": [
    "# We create a rank 1 ndarray that has sequential integers from 0 to 9\n",
    "x = np.arange(10)\n",
    "\n",
    "# We print the ndarray\n",
    "print()\n",
    "print('x = ', x)\n",
    "print()\n",
    "\n",
    "# We print information about the ndarray\n",
    "print('x has dimensions:', x.shape)\n",
    "print('x is an object of type:', type(x))\n",
    "print('The elements in x are of type:', x.dtype) "
   ]
  },
  {
   "cell_type": "code",
   "execution_count": 21,
   "id": "45c2ae68",
   "metadata": {
    "execution": {
     "iopub.execute_input": "2022-02-05T22:31:42.939427Z",
     "iopub.status.busy": "2022-02-05T22:31:42.938395Z",
     "iopub.status.idle": "2022-02-05T22:31:42.942612Z",
     "shell.execute_reply": "2022-02-05T22:31:42.943317Z",
     "shell.execute_reply.started": "2022-02-05T20:08:58.061368Z"
    },
    "papermill": {
     "duration": 0.097978,
     "end_time": "2022-02-05T22:31:42.943524",
     "exception": false,
     "start_time": "2022-02-05T22:31:42.845546",
     "status": "completed"
    },
    "tags": []
   },
   "outputs": [
    {
     "name": "stdout",
     "output_type": "stream",
     "text": [
      "\n",
      "x =  [4 5 6 7 8 9]\n",
      "\n",
      "x has dimensions: (6,)\n",
      "x is an object of type: <class 'numpy.ndarray'>\n",
      "The elements in x are of type: int64\n"
     ]
    }
   ],
   "source": [
    "# We create a rank 1 ndarray that has sequential integers from 4 to 9. \n",
    "x = np.arange(4,10)\n",
    "\n",
    "# We print the ndarray\n",
    "print()\n",
    "print('x = ', x)\n",
    "print()\n",
    "\n",
    "# We print information about the ndarray\n",
    "print('x has dimensions:', x.shape)\n",
    "print('x is an object of type:', type(x))\n",
    "print('The elements in x are of type:', x.dtype)"
   ]
  },
  {
   "cell_type": "code",
   "execution_count": 22,
   "id": "5611ab33",
   "metadata": {
    "execution": {
     "iopub.execute_input": "2022-02-05T22:31:43.128136Z",
     "iopub.status.busy": "2022-02-05T22:31:43.127260Z",
     "iopub.status.idle": "2022-02-05T22:31:43.131998Z",
     "shell.execute_reply": "2022-02-05T22:31:43.131315Z",
     "shell.execute_reply.started": "2022-02-05T20:09:23.861534Z"
    },
    "papermill": {
     "duration": 0.099892,
     "end_time": "2022-02-05T22:31:43.132151",
     "exception": false,
     "start_time": "2022-02-05T22:31:43.032259",
     "status": "completed"
    },
    "tags": []
   },
   "outputs": [
    {
     "name": "stdout",
     "output_type": "stream",
     "text": [
      "\n",
      "x =  [ 1  4  7 10 13]\n",
      "\n",
      "x has dimensions: (5,)\n",
      "x is an object of type: <class 'numpy.ndarray'>\n",
      "The elements in x are of type: int64\n"
     ]
    }
   ],
   "source": [
    "# We create a rank 1 ndarray that has evenly spaced integers from 1 to 13 in steps of 3.\n",
    "x = np.arange(1,14,3)\n",
    "\n",
    "# We print the ndarray\n",
    "print()\n",
    "print('x = ', x)\n",
    "print()\n",
    "\n",
    "# We print information about the ndarray\n",
    "print('x has dimensions:', x.shape)\n",
    "print('x is an object of type:', type(x))\n",
    "print('The elements in x are of type:', x.dtype)"
   ]
  },
  {
   "cell_type": "code",
   "execution_count": 23,
   "id": "b4617e56",
   "metadata": {
    "execution": {
     "iopub.execute_input": "2022-02-05T22:31:43.308668Z",
     "iopub.status.busy": "2022-02-05T22:31:43.307976Z",
     "iopub.status.idle": "2022-02-05T22:31:43.312666Z",
     "shell.execute_reply": "2022-02-05T22:31:43.312054Z",
     "shell.execute_reply.started": "2022-02-05T20:10:12.921252Z"
    },
    "papermill": {
     "duration": 0.09252,
     "end_time": "2022-02-05T22:31:43.312815",
     "exception": false,
     "start_time": "2022-02-05T22:31:43.220295",
     "status": "completed"
    },
    "tags": []
   },
   "outputs": [],
   "source": [
    "# numpy.linspace\n",
    "\n",
    "# Syntax:\n",
    "\n",
    "# numpy.linspace(start, stop, num=50, endpoint=True, retstep=False, dtype=None, axis=0)\n"
   ]
  },
  {
   "cell_type": "code",
   "execution_count": 24,
   "id": "a88334c1",
   "metadata": {
    "execution": {
     "iopub.execute_input": "2022-02-05T22:31:43.497342Z",
     "iopub.status.busy": "2022-02-05T22:31:43.496626Z",
     "iopub.status.idle": "2022-02-05T22:31:43.499921Z",
     "shell.execute_reply": "2022-02-05T22:31:43.499239Z",
     "shell.execute_reply.started": "2022-02-05T20:15:32.830175Z"
    },
    "papermill": {
     "duration": 0.096626,
     "end_time": "2022-02-05T22:31:43.500068",
     "exception": false,
     "start_time": "2022-02-05T22:31:43.403442",
     "status": "completed"
    },
    "tags": []
   },
   "outputs": [],
   "source": [
    "# Even though the np.arange() function allows for non-integer steps, such as 0.3,\n",
    "# the output is usually inconsistent, due to the finite floating point precision.\n",
    "#For this reason, in the cases where non-integer steps are required,\n",
    "#it is usually better to use the function np.linspace().\n",
    "#The np.linspace(start, stop, N) function \n",
    "#returns N evenly spaced numbers over the closed interval [start, stop].\n",
    "#This means that both the start and thestop values are included. \n",
    "#We should also note the np.linspace() function\n",
    "#needs to be called with at least two arguments in the form np.linspace(start,stop).\n",
    "#In this case, the default number of elements in the specified interval will be N= 50.\n",
    "#The reason np.linspace() works better than the np.arange() function, \n",
    "#is that np.linspace() uses the number of elements we want in a particular interval,\n",
    "#instead of the step between values"
   ]
  },
  {
   "cell_type": "code",
   "execution_count": 25,
   "id": "660a21cb",
   "metadata": {
    "execution": {
     "iopub.execute_input": "2022-02-05T22:31:43.678937Z",
     "iopub.status.busy": "2022-02-05T22:31:43.677869Z",
     "iopub.status.idle": "2022-02-05T22:31:43.684286Z",
     "shell.execute_reply": "2022-02-05T22:31:43.683325Z",
     "shell.execute_reply.started": "2022-02-05T20:15:53.862193Z"
    },
    "papermill": {
     "duration": 0.098175,
     "end_time": "2022-02-05T22:31:43.684514",
     "exception": false,
     "start_time": "2022-02-05T22:31:43.586339",
     "status": "completed"
    },
    "tags": []
   },
   "outputs": [
    {
     "name": "stdout",
     "output_type": "stream",
     "text": [
      "\n",
      "x = \n",
      " [ 0.          2.77777778  5.55555556  8.33333333 11.11111111 13.88888889\n",
      " 16.66666667 19.44444444 22.22222222 25.        ]\n",
      "\n",
      "x has dimensions: (10,)\n",
      "x is an object of type: <class 'numpy.ndarray'>\n",
      "The elements in x are of type: float64\n"
     ]
    }
   ],
   "source": [
    "# We create a rank 1 ndarray that has 10 integers evenly spaced between 0 and 25.\n",
    "x = np.linspace(0,25,10)\n",
    "\n",
    "# We print the ndarray\n",
    "print()\n",
    "print('x = \\n', x)\n",
    "print()\n",
    "\n",
    "# We print information about the ndarray\n",
    "print('x has dimensions:', x.shape)\n",
    "print('x is an object of type:', type(x))\n",
    "print('The elements in x are of type:', x.dtype) "
   ]
  },
  {
   "cell_type": "code",
   "execution_count": 26,
   "id": "656f041d",
   "metadata": {
    "execution": {
     "iopub.execute_input": "2022-02-05T22:31:43.872704Z",
     "iopub.status.busy": "2022-02-05T22:31:43.871590Z",
     "iopub.status.idle": "2022-02-05T22:31:43.875440Z",
     "shell.execute_reply": "2022-02-05T22:31:43.876399Z",
     "shell.execute_reply.started": "2022-02-05T20:17:31.842095Z"
    },
    "papermill": {
     "duration": 0.102305,
     "end_time": "2022-02-05T22:31:43.876762",
     "exception": false,
     "start_time": "2022-02-05T22:31:43.774457",
     "status": "completed"
    },
    "tags": []
   },
   "outputs": [
    {
     "name": "stdout",
     "output_type": "stream",
     "text": [
      "\n",
      "x =  [ 0.   2.5  5.   7.5 10.  12.5 15.  17.5 20.  22.5]\n",
      "\n",
      "x has dimensions: (10,)\n",
      "x is an object of type: <class 'numpy.ndarray'>\n",
      "The elements in x are of type: float64\n"
     ]
    }
   ],
   "source": [
    "# We create a rank 1 ndarray that has 10 integers evenly spaced between 0 and 25,\n",
    "# with 25 excluded.\n",
    "x = np.linspace(0,25,10, endpoint = False)\n",
    "\n",
    "# We print the ndarray\n",
    "print()\n",
    "print('x = ', x)\n",
    "print()\n",
    "\n",
    "# We print information about the ndarray\n",
    "print('x has dimensions:', x.shape)\n",
    "print('x is an object of type:', type(x))\n",
    "print('The elements in x are of type:', x.dtype)"
   ]
  },
  {
   "cell_type": "code",
   "execution_count": 27,
   "id": "1fb47099",
   "metadata": {
    "execution": {
     "iopub.execute_input": "2022-02-05T22:31:44.055967Z",
     "iopub.status.busy": "2022-02-05T22:31:44.055096Z",
     "iopub.status.idle": "2022-02-05T22:31:44.057963Z",
     "shell.execute_reply": "2022-02-05T22:31:44.057406Z",
     "shell.execute_reply.started": "2022-02-05T20:18:42.372865Z"
    },
    "papermill": {
     "duration": 0.092163,
     "end_time": "2022-02-05T22:31:44.058121",
     "exception": false,
     "start_time": "2022-02-05T22:31:43.965958",
     "status": "completed"
    },
    "tags": []
   },
   "outputs": [],
   "source": [
    "# numpy.reshape - This is a Function.\n",
    "\n",
    "# Syntax:\n",
    "\n",
    "# numpy.reshape(array, newshape, order='C')[source]\n",
    "\n",
    "# It gives a new shape to an array without changing its data"
   ]
  },
  {
   "cell_type": "code",
   "execution_count": 28,
   "id": "6d3b654d",
   "metadata": {
    "execution": {
     "iopub.execute_input": "2022-02-05T22:31:44.236889Z",
     "iopub.status.busy": "2022-02-05T22:31:44.236010Z",
     "iopub.status.idle": "2022-02-05T22:31:44.239241Z",
     "shell.execute_reply": "2022-02-05T22:31:44.238719Z",
     "shell.execute_reply.started": "2022-02-05T20:22:34.721125Z"
    },
    "papermill": {
     "duration": 0.093744,
     "end_time": "2022-02-05T22:31:44.239378",
     "exception": false,
     "start_time": "2022-02-05T22:31:44.145634",
     "status": "completed"
    },
    "tags": []
   },
   "outputs": [],
   "source": [
    "# It is important to note that \n",
    "# the new_shape should be compatible with the number of elements in the given ndarray\n",
    "\n",
    "# you can convert a rank 1 ndarray with 6 elements,\n",
    "# into a 3 x 2 rank 2 ndarray, or a 2 x 3 rank 2 ndarray,\n",
    "# since both of these rank 2 arrays will have a total of 6 elements. However,\n",
    "# you can't reshape the rank 1 ndarray with 6 elements into a 3 x 3 rank 2 ndarray, \n",
    "# since this rank 2 array will have 9 elements,\n",
    "#which is greater than the number of elements in the original ndarray. "
   ]
  },
  {
   "cell_type": "code",
   "execution_count": 29,
   "id": "6284bd55",
   "metadata": {
    "execution": {
     "iopub.execute_input": "2022-02-05T22:31:44.417403Z",
     "iopub.status.busy": "2022-02-05T22:31:44.416584Z",
     "iopub.status.idle": "2022-02-05T22:31:44.425152Z",
     "shell.execute_reply": "2022-02-05T22:31:44.425736Z",
     "shell.execute_reply.started": "2022-02-05T20:23:16.260211Z"
    },
    "papermill": {
     "duration": 0.098955,
     "end_time": "2022-02-05T22:31:44.425926",
     "exception": false,
     "start_time": "2022-02-05T22:31:44.326971",
     "status": "completed"
    },
    "tags": []
   },
   "outputs": [
    {
     "name": "stdout",
     "output_type": "stream",
     "text": [
      "\n",
      "Original x =  [ 0  1  2  3  4  5  6  7  8  9 10 11 12 13 14 15 16 17 18 19]\n",
      "\n",
      "\n",
      "Reshaped x = \n",
      " [[ 0  1  2  3  4]\n",
      " [ 5  6  7  8  9]\n",
      " [10 11 12 13 14]\n",
      " [15 16 17 18 19]]\n",
      "\n",
      "x has dimensions: (4, 5)\n",
      "x is an object of type: <class 'numpy.ndarray'>\n",
      "The elements in x are of type: int64\n"
     ]
    }
   ],
   "source": [
    "# We create a rank 1 ndarray with sequential integers from 0 to 19\n",
    "x = np.arange(20)\n",
    "\n",
    "# We print x\n",
    "print()\n",
    "print('Original x = ', x)\n",
    "print()\n",
    "\n",
    "# We reshape x into a 4 x 5 ndarray \n",
    "x = np.reshape(x, (4,5))\n",
    "\n",
    "# We print the reshaped x\n",
    "print()\n",
    "print('Reshaped x = \\n', x)\n",
    "print()\n",
    "\n",
    "# We print information about the reshaped x\n",
    "print('x has dimensions:', x.shape)\n",
    "print('x is an object of type:', type(x))\n",
    "print('The elements in x are of type:', x.dtype) "
   ]
  },
  {
   "cell_type": "code",
   "execution_count": 30,
   "id": "eb83a0b2",
   "metadata": {
    "execution": {
     "iopub.execute_input": "2022-02-05T22:31:44.607596Z",
     "iopub.status.busy": "2022-02-05T22:31:44.606821Z",
     "iopub.status.idle": "2022-02-05T22:31:44.610327Z",
     "shell.execute_reply": "2022-02-05T22:31:44.610908Z",
     "shell.execute_reply.started": "2022-02-05T20:25:18.522115Z"
    },
    "papermill": {
     "duration": 0.093382,
     "end_time": "2022-02-05T22:31:44.611084",
     "exception": false,
     "start_time": "2022-02-05T22:31:44.517702",
     "status": "completed"
    },
    "tags": []
   },
   "outputs": [],
   "source": [
    "# HINT\n",
    "\n",
    "# numpy.reshape - This is a Function.\n",
    "\n",
    "# numpy.ndarray.reshape - This one is a Method."
   ]
  },
  {
   "cell_type": "code",
   "execution_count": 31,
   "id": "52f260da",
   "metadata": {
    "execution": {
     "iopub.execute_input": "2022-02-05T22:31:44.791298Z",
     "iopub.status.busy": "2022-02-05T22:31:44.790494Z",
     "iopub.status.idle": "2022-02-05T22:31:44.793598Z",
     "shell.execute_reply": "2022-02-05T22:31:44.794135Z",
     "shell.execute_reply.started": "2022-02-05T20:27:27.030115Z"
    },
    "papermill": {
     "duration": 0.095223,
     "end_time": "2022-02-05T22:31:44.794309",
     "exception": false,
     "start_time": "2022-02-05T22:31:44.699086",
     "status": "completed"
    },
    "tags": []
   },
   "outputs": [],
   "source": [
    "# One great feature about NumPy, \n",
    "# is that some functions can also be applied as methods.\n",
    "# This allows us to apply different functions in sequence in just one line of code.\n",
    "# ndarray methods are similar to ndarray attributes in that\n",
    "#they are both applied using dot notation (.)"
   ]
  },
  {
   "cell_type": "code",
   "execution_count": 32,
   "id": "c0116217",
   "metadata": {
    "execution": {
     "iopub.execute_input": "2022-02-05T22:31:44.977396Z",
     "iopub.status.busy": "2022-02-05T22:31:44.976705Z",
     "iopub.status.idle": "2022-02-05T22:31:44.985038Z",
     "shell.execute_reply": "2022-02-05T22:31:44.985892Z",
     "shell.execute_reply.started": "2022-02-05T20:27:51.960924Z"
    },
    "papermill": {
     "duration": 0.10249,
     "end_time": "2022-02-05T22:31:44.986127",
     "exception": false,
     "start_time": "2022-02-05T22:31:44.883637",
     "status": "completed"
    },
    "tags": []
   },
   "outputs": [
    {
     "name": "stdout",
     "output_type": "stream",
     "text": [
      "\n",
      "Y = \n",
      " [[ 0  1  2  3  4]\n",
      " [ 5  6  7  8  9]\n",
      " [10 11 12 13 14]\n",
      " [15 16 17 18 19]]\n",
      "\n",
      "Y has dimensions: (4, 5)\n",
      "Y is an object of type: <class 'numpy.ndarray'>\n",
      "The elements in Y are of type: int64\n"
     ]
    }
   ],
   "source": [
    "# We create a a rank 1 ndarray with sequential integers from 0 to 19 and\n",
    "# reshape it to a 4 x 5 array \n",
    "Y = np.arange(20).reshape(4, 5)\n",
    "\n",
    "# We print Y\n",
    "print()\n",
    "print('Y = \\n', Y)\n",
    "print()\n",
    "\n",
    "# We print information about Y\n",
    "print('Y has dimensions:', Y.shape)\n",
    "print('Y is an object of type:', type(Y))\n",
    "print('The elements in Y are of type:', Y.dtype)"
   ]
  },
  {
   "cell_type": "code",
   "execution_count": 33,
   "id": "6ea0b9f7",
   "metadata": {
    "execution": {
     "iopub.execute_input": "2022-02-05T22:31:45.164817Z",
     "iopub.status.busy": "2022-02-05T22:31:45.164053Z",
     "iopub.status.idle": "2022-02-05T22:31:45.171868Z",
     "shell.execute_reply": "2022-02-05T22:31:45.172839Z",
     "shell.execute_reply.started": "2022-02-05T20:29:33.852309Z"
    },
    "papermill": {
     "duration": 0.099138,
     "end_time": "2022-02-05T22:31:45.173152",
     "exception": false,
     "start_time": "2022-02-05T22:31:45.074014",
     "status": "completed"
    },
    "tags": []
   },
   "outputs": [
    {
     "name": "stdout",
     "output_type": "stream",
     "text": [
      "\n",
      "X = \n",
      " [[ 0.  5.]\n",
      " [10. 15.]\n",
      " [20. 25.]\n",
      " [30. 35.]\n",
      " [40. 45.]]\n",
      "\n",
      "X has dimensions: (5, 2)\n",
      "X is an object of type: <class 'numpy.ndarray'>\n",
      "The elements in X are of type: float64\n"
     ]
    }
   ],
   "source": [
    "# We create a rank 1 ndarray with 10 integers evenly spaced between 0 and 50,\n",
    "# with 50 excluded. We then reshape it to a 5 x 2 ndarray\n",
    "X = np.linspace(0,50,10, endpoint=False).reshape(5,2)\n",
    "\n",
    "# We print X\n",
    "print()\n",
    "print('X = \\n', X)\n",
    "print()\n",
    "\n",
    "# We print information about X\n",
    "print('X has dimensions:', X.shape)\n",
    "print('X is an object of type:', type(X))\n",
    "print('The elements in X are of type:', X.dtype)"
   ]
  },
  {
   "cell_type": "code",
   "execution_count": 34,
   "id": "b19601af",
   "metadata": {
    "execution": {
     "iopub.execute_input": "2022-02-05T22:31:45.353272Z",
     "iopub.status.busy": "2022-02-05T22:31:45.352409Z",
     "iopub.status.idle": "2022-02-05T22:31:45.361947Z",
     "shell.execute_reply": "2022-02-05T22:31:45.361353Z",
     "shell.execute_reply.started": "2022-02-05T20:32:09.421179Z"
    },
    "papermill": {
     "duration": 0.099334,
     "end_time": "2022-02-05T22:31:45.362117",
     "exception": false,
     "start_time": "2022-02-05T22:31:45.262783",
     "status": "completed"
    },
    "tags": []
   },
   "outputs": [
    {
     "name": "stdout",
     "output_type": "stream",
     "text": [
      "\n",
      "X = \n",
      " [[0.61284966 0.64000911 0.93286293]\n",
      " [0.01034913 0.4714372  0.1394995 ]\n",
      " [0.87038652 0.58898654 0.4938859 ]]\n",
      "\n",
      "X has dimensions: (3, 3)\n",
      "X is an object of type: <class 'numpy.ndarray'>\n",
      "The elements in x are of type: float64\n"
     ]
    }
   ],
   "source": [
    "# We create a 3 x 3 ndarray with random floats in the half-open interval [0.0, 1.0).\n",
    "X = np.random.random((3,3))\n",
    "\n",
    "# We print X\n",
    "print()\n",
    "print('X = \\n', X)\n",
    "print()\n",
    "\n",
    "# We print information about X\n",
    "print('X has dimensions:', X.shape)\n",
    "print('X is an object of type:', type(X))\n",
    "print('The elements in x are of type:', X.dtype)"
   ]
  },
  {
   "cell_type": "code",
   "execution_count": 35,
   "id": "2a7c8eb0",
   "metadata": {
    "execution": {
     "iopub.execute_input": "2022-02-05T22:31:45.546770Z",
     "iopub.status.busy": "2022-02-05T22:31:45.545628Z",
     "iopub.status.idle": "2022-02-05T22:31:45.547661Z",
     "shell.execute_reply": "2022-02-05T22:31:45.548176Z",
     "shell.execute_reply.started": "2022-02-05T20:33:21.741778Z"
    },
    "papermill": {
     "duration": 0.095888,
     "end_time": "2022-02-05T22:31:45.548352",
     "exception": false,
     "start_time": "2022-02-05T22:31:45.452464",
     "status": "completed"
    },
    "tags": []
   },
   "outputs": [],
   "source": [
    "# NumPy also allows us to create ndarrays with random integers within a particular interval.\n",
    "# The function np.random.randint(start, stop, size = shape) \n",
    "# creates an ndarray of the given shape with random integers\n",
    "# in the half-open interval [start, stop)."
   ]
  },
  {
   "cell_type": "code",
   "execution_count": 36,
   "id": "340f492f",
   "metadata": {
    "execution": {
     "iopub.execute_input": "2022-02-05T22:31:45.728227Z",
     "iopub.status.busy": "2022-02-05T22:31:45.727086Z",
     "iopub.status.idle": "2022-02-05T22:31:45.735897Z",
     "shell.execute_reply": "2022-02-05T22:31:45.736609Z",
     "shell.execute_reply.started": "2022-02-05T20:34:05.804893Z"
    },
    "papermill": {
     "duration": 0.099683,
     "end_time": "2022-02-05T22:31:45.736804",
     "exception": false,
     "start_time": "2022-02-05T22:31:45.637121",
     "status": "completed"
    },
    "tags": []
   },
   "outputs": [
    {
     "name": "stdout",
     "output_type": "stream",
     "text": [
      "\n",
      "X = \n",
      " [[10 10]\n",
      " [14  8]\n",
      " [ 6  5]]\n",
      "\n",
      "X has dimensions: (3, 2)\n",
      "X is an object of type: <class 'numpy.ndarray'>\n",
      "The elements in X are of type: int64\n"
     ]
    }
   ],
   "source": [
    "# We create a 3 x 2 ndarray with random integers in the half-open interval [4, 15).\n",
    "X = np.random.randint(4,15,size=(3,2))\n",
    "\n",
    "# We print X\n",
    "print()\n",
    "print('X = \\n', X)\n",
    "print()\n",
    "\n",
    "# We print information about X\n",
    "print('X has dimensions:', X.shape)\n",
    "print('X is an object of type:', type(X))\n",
    "print('The elements in X are of type:', X.dtype)"
   ]
  },
  {
   "cell_type": "code",
   "execution_count": 37,
   "id": "6cc70006",
   "metadata": {
    "execution": {
     "iopub.execute_input": "2022-02-05T22:31:45.919380Z",
     "iopub.status.busy": "2022-02-05T22:31:45.918600Z",
     "iopub.status.idle": "2022-02-05T22:31:45.923397Z",
     "shell.execute_reply": "2022-02-05T22:31:45.924004Z",
     "shell.execute_reply.started": "2022-02-05T20:37:59.472556Z"
    },
    "papermill": {
     "duration": 0.09827,
     "end_time": "2022-02-05T22:31:45.924191",
     "exception": false,
     "start_time": "2022-02-05T22:31:45.825921",
     "status": "completed"
    },
    "tags": []
   },
   "outputs": [],
   "source": [
    "# In some cases,\n",
    "# you may need to create ndarrays with \n",
    "# random numbers that satisfy certain statistical properties.\n",
    "# For example, \n",
    "# you may want the random numbers in the ndarray to have an average of 0.\n",
    "# NumPy allows you create random ndarrays with numbers drawn from various probability distributions.\n",
    "# The function np.random.normal(mean, standard deviation, size=shape),\n",
    "# for example,\n",
    "# creates an ndarray with the given shape \n",
    "# that contains random numbers picked from a normal (Gaussian) distribution\n",
    "# with the given mean and standard deviation. \n",
    "# Let's create a 1,000 x 1,000 ndarray \n",
    "# of random floating point numbers drawn from a normal distribution\n",
    "#with a mean (average) of zero and a standard deviation of 0.1."
   ]
  },
  {
   "cell_type": "code",
   "execution_count": 38,
   "id": "0dbb26c9",
   "metadata": {
    "execution": {
     "iopub.execute_input": "2022-02-05T22:31:46.107995Z",
     "iopub.status.busy": "2022-02-05T22:31:46.107062Z",
     "iopub.status.idle": "2022-02-05T22:31:46.160692Z",
     "shell.execute_reply": "2022-02-05T22:31:46.161205Z",
     "shell.execute_reply.started": "2022-02-05T20:40:55.759724Z"
    },
    "papermill": {
     "duration": 0.147909,
     "end_time": "2022-02-05T22:31:46.161395",
     "exception": false,
     "start_time": "2022-02-05T22:31:46.013486",
     "status": "completed"
    },
    "tags": []
   },
   "outputs": [
    {
     "name": "stdout",
     "output_type": "stream",
     "text": [
      "\n",
      "X = \n",
      " [[-1.65550119e-02  5.31470335e-04  4.38564843e-03 ... -1.25226289e-01\n",
      "   1.00940818e-01 -1.21186639e-02]\n",
      " [-1.51932134e-01  1.76241861e-01 -1.81903100e-01 ...  1.18318697e-01\n",
      "  -1.76317503e-04 -2.39612566e-02]\n",
      " [ 1.99374699e-01  4.76492304e-02  7.14291078e-02 ...  1.15126475e-01\n",
      "  -3.76163122e-03  4.26028496e-03]\n",
      " ...\n",
      " [ 1.45212002e-01  7.35669954e-02 -1.48409738e-02 ... -3.30580660e-02\n",
      "  -1.84798122e-02 -1.05262397e-01]\n",
      " [-7.38706876e-02  7.97450860e-02 -1.11850445e-01 ... -1.12270810e-01\n",
      "   4.32171235e-03  1.26181213e-02]\n",
      " [-5.64197438e-02  1.40116824e-01 -8.41952396e-02 ...  5.97645979e-02\n",
      "  -2.52159683e-01  1.99844919e-03]]\n",
      "\n",
      "X has dimensions: (1000, 1000)\n",
      "X is an object of type: <class 'numpy.ndarray'>\n",
      "The elements in X are of type: float64\n",
      "The elements in X have a mean of: 9.325635663917448e-05\n",
      "The maximum value in X is: 0.4966524918029911\n",
      "The minimum value in X is: -0.517170547096441\n",
      "X has 499764 negative numbers\n",
      "X has 500236 positive numbers\n"
     ]
    }
   ],
   "source": [
    "# We create a 1000 x 1000 ndarray of random floats drawn from normal (Gaussian) distribution\n",
    "# with a mean of zero and a standard deviation of 0.1.\n",
    "X = np.random.normal(0, 0.1, size=(1000,1000))\n",
    "\n",
    "# We print X\n",
    "print()\n",
    "print('X = \\n', X)\n",
    "print()\n",
    "\n",
    "# We print information about X\n",
    "print('X has dimensions:', X.shape)\n",
    "print('X is an object of type:', type(X))\n",
    "print('The elements in X are of type:', X.dtype)\n",
    "print('The elements in X have a mean of:', X.mean())\n",
    "print('The maximum value in X is:', X.max())\n",
    "print('The minimum value in X is:', X.min())\n",
    "print('X has', (X < 0).sum(), 'negative numbers')\n",
    "print('X has', (X > 0).sum(), 'positive numbers')"
   ]
  },
  {
   "cell_type": "code",
   "execution_count": 39,
   "id": "6b42a8ee",
   "metadata": {
    "execution": {
     "iopub.execute_input": "2022-02-05T22:31:46.340542Z",
     "iopub.status.busy": "2022-02-05T22:31:46.339773Z",
     "iopub.status.idle": "2022-02-05T22:31:46.352258Z",
     "shell.execute_reply": "2022-02-05T22:31:46.351579Z",
     "shell.execute_reply.started": "2022-02-05T20:50:06.230624Z"
    },
    "papermill": {
     "duration": 0.102432,
     "end_time": "2022-02-05T22:31:46.352404",
     "exception": false,
     "start_time": "2022-02-05T22:31:46.249972",
     "status": "completed"
    },
    "tags": []
   },
   "outputs": [
    {
     "name": "stdout",
     "output_type": "stream",
     "text": [
      "\n",
      "x =  [1 2 3 4 5]\n",
      "\n",
      "This is First Element in x: 1\n",
      "This is Second Element in x: 2\n",
      "This is Fifth (Last) Element in x: 5\n",
      "\n",
      "This is First Element in x: 1\n",
      "This is Second Element in x: 2\n",
      "This is Fifth (Last) Element in x: 5\n"
     ]
    }
   ],
   "source": [
    "# Access individual elements of 1-D array\n",
    "\n",
    "# We create a rank 1 ndarray that contains integers from 1 to 5\n",
    "x = np.array([1, 2, 3, 4, 5])\n",
    "\n",
    "# We print x\n",
    "print()\n",
    "print('x = ', x)\n",
    "print()\n",
    "\n",
    "# Let's access some elements with positive indices\n",
    "print('This is First Element in x:', x[0]) \n",
    "print('This is Second Element in x:', x[1])\n",
    "print('This is Fifth (Last) Element in x:', x[4])\n",
    "print()\n",
    "\n",
    "# Let's access the same elements with negative indices\n",
    "print('This is First Element in x:', x[-5])\n",
    "print('This is Second Element in x:', x[-4])\n",
    "print('This is Fifth (Last) Element in x:', x[-1])\n"
   ]
  },
  {
   "cell_type": "code",
   "execution_count": 40,
   "id": "1d33eb72",
   "metadata": {
    "execution": {
     "iopub.execute_input": "2022-02-05T22:31:46.536431Z",
     "iopub.status.busy": "2022-02-05T22:31:46.535763Z",
     "iopub.status.idle": "2022-02-05T22:31:46.538574Z",
     "shell.execute_reply": "2022-02-05T22:31:46.539084Z",
     "shell.execute_reply.started": "2022-02-05T20:51:22.362323Z"
    },
    "papermill": {
     "duration": 0.097936,
     "end_time": "2022-02-05T22:31:46.539259",
     "exception": false,
     "start_time": "2022-02-05T22:31:46.441323",
     "status": "completed"
    },
    "tags": []
   },
   "outputs": [
    {
     "name": "stdout",
     "output_type": "stream",
     "text": [
      "\n",
      "Original:\n",
      " x =  [1 2 3 4 5]\n",
      "\n",
      "Modified:\n",
      " x =  [ 1  2  3 20  5]\n"
     ]
    }
   ],
   "source": [
    "#  Modify an element of 1-D array\n",
    "\n",
    "# We create a rank 1 ndarray that contains integers from 1 to 5\n",
    "x = np.array([1, 2, 3, 4, 5])\n",
    "\n",
    "# We print the original x\n",
    "print()\n",
    "print('Original:\\n x = ', x)\n",
    "print()\n",
    "\n",
    "# We change the fourth element in x from 4 to 20\n",
    "x[3] = 20\n",
    "\n",
    "# We print x after it was modified \n",
    "print('Modified:\\n x = ', x)\n"
   ]
  },
  {
   "cell_type": "code",
   "execution_count": 41,
   "id": "0c1977f1",
   "metadata": {
    "execution": {
     "iopub.execute_input": "2022-02-05T22:31:46.723390Z",
     "iopub.status.busy": "2022-02-05T22:31:46.722689Z",
     "iopub.status.idle": "2022-02-05T22:31:46.730289Z",
     "shell.execute_reply": "2022-02-05T22:31:46.730847Z",
     "shell.execute_reply.started": "2022-02-05T20:52:03.075038Z"
    },
    "papermill": {
     "duration": 0.1009,
     "end_time": "2022-02-05T22:31:46.731027",
     "exception": false,
     "start_time": "2022-02-05T22:31:46.630127",
     "status": "completed"
    },
    "tags": []
   },
   "outputs": [
    {
     "name": "stdout",
     "output_type": "stream",
     "text": [
      "\n",
      "X = \n",
      " [[1 2 3]\n",
      " [4 5 6]\n",
      " [7 8 9]]\n",
      "\n",
      "This is (0,0) Element in X: 1\n",
      "This is (0,1) Element in X: 2\n",
      "This is (2,2) Element in X: 9\n"
     ]
    }
   ],
   "source": [
    "# Access individual elements of 2-D array\n",
    "\n",
    "# We create a 3 x 3 rank 2 ndarray that contains integers from 1 to 9\n",
    "X = np.array([[1,2,3],[4,5,6],[7,8,9]])\n",
    "\n",
    "# We print X\n",
    "print()\n",
    "print('X = \\n', X)\n",
    "print()\n",
    "\n",
    "# Let's access some elements in X\n",
    "print('This is (0,0) Element in X:', X[0,0])\n",
    "print('This is (0,1) Element in X:', X[0,1])\n",
    "print('This is (2,2) Element in X:', X[2,2])\n"
   ]
  },
  {
   "cell_type": "code",
   "execution_count": 42,
   "id": "94642359",
   "metadata": {
    "execution": {
     "iopub.execute_input": "2022-02-05T22:31:46.920651Z",
     "iopub.status.busy": "2022-02-05T22:31:46.919888Z",
     "iopub.status.idle": "2022-02-05T22:31:46.926894Z",
     "shell.execute_reply": "2022-02-05T22:31:46.927562Z",
     "shell.execute_reply.started": "2022-02-05T20:52:50.421576Z"
    },
    "papermill": {
     "duration": 0.104033,
     "end_time": "2022-02-05T22:31:46.927752",
     "exception": false,
     "start_time": "2022-02-05T22:31:46.823719",
     "status": "completed"
    },
    "tags": []
   },
   "outputs": [
    {
     "name": "stdout",
     "output_type": "stream",
     "text": [
      "\n",
      "Original:\n",
      " X = \n",
      " [[1 2 3]\n",
      " [4 5 6]\n",
      " [7 8 9]]\n",
      "\n",
      "Modified:\n",
      " X = \n",
      " [[20  2  3]\n",
      " [ 4  5  6]\n",
      " [ 7  8  9]]\n"
     ]
    }
   ],
   "source": [
    "# Modify an element of 2-D array\n",
    "\n",
    "# We create a 3 x 3 rank 2 ndarray that contains integers from 1 to 9\n",
    "X = np.array([[1,2,3],[4,5,6],[7,8,9]])\n",
    "\n",
    "# We print the original x\n",
    "print()\n",
    "print('Original:\\n X = \\n', X)\n",
    "print()\n",
    "\n",
    "# We change the (0,0) element in X from 1 to 20\n",
    "X[0,0] = 20\n",
    "\n",
    "# We print X after it was modified \n",
    "print('Modified:\\n X = \\n', X)\n"
   ]
  },
  {
   "cell_type": "code",
   "execution_count": 43,
   "id": "781f9d7e",
   "metadata": {
    "execution": {
     "iopub.execute_input": "2022-02-05T22:31:47.110962Z",
     "iopub.status.busy": "2022-02-05T22:31:47.110123Z",
     "iopub.status.idle": "2022-02-05T22:31:47.114557Z",
     "shell.execute_reply": "2022-02-05T22:31:47.113961Z",
     "shell.execute_reply.started": "2022-02-05T20:54:54.742504Z"
    },
    "papermill": {
     "duration": 0.096428,
     "end_time": "2022-02-05T22:31:47.114716",
     "exception": false,
     "start_time": "2022-02-05T22:31:47.018288",
     "status": "completed"
    },
    "tags": []
   },
   "outputs": [],
   "source": [
    "# Delete elements\n",
    "\n",
    "# We can delete elements using the\n",
    "# np.delete(ndarray, elements, axis) function.\n",
    "# This function deletes the given list of elements\n",
    "# from the given ndarray along the specified axis.\n",
    "# For rank 1 ndarrays the axis keyword is not required.\n",
    "# For rank 2 ndarrays,\n",
    "# axis = 0 is used to select rows,\n",
    "# and axis = 1 is used to select columns."
   ]
  },
  {
   "cell_type": "code",
   "execution_count": 44,
   "id": "c16a1d2d",
   "metadata": {
    "execution": {
     "iopub.execute_input": "2022-02-05T22:31:47.304747Z",
     "iopub.status.busy": "2022-02-05T22:31:47.303741Z",
     "iopub.status.idle": "2022-02-05T22:31:47.307172Z",
     "shell.execute_reply": "2022-02-05T22:31:47.307698Z",
     "shell.execute_reply.started": "2022-02-05T20:58:25.039931Z"
    },
    "papermill": {
     "duration": 0.1016,
     "end_time": "2022-02-05T22:31:47.307874",
     "exception": false,
     "start_time": "2022-02-05T22:31:47.206274",
     "status": "completed"
    },
    "tags": []
   },
   "outputs": [
    {
     "name": "stdout",
     "output_type": "stream",
     "text": [
      "\n",
      "Original x =  [1 2 3 4 5]\n",
      "\n",
      "Modified x =  [2 3 4]\n"
     ]
    }
   ],
   "source": [
    "# We create a rank 1 ndarray \n",
    "x = np.array([1, 2, 3, 4, 5])\n",
    "\n",
    "# We print x\n",
    "print()\n",
    "print('Original x = ', x)\n",
    "\n",
    "# We delete the first and last element of x\n",
    "x = np.delete(x, [0,4])\n",
    "\n",
    "# We print x with the first and last element deleted\n",
    "print()\n",
    "print('Modified x = ', x)"
   ]
  },
  {
   "cell_type": "code",
   "execution_count": 45,
   "id": "68e72223",
   "metadata": {
    "execution": {
     "iopub.execute_input": "2022-02-05T22:31:47.493547Z",
     "iopub.status.busy": "2022-02-05T22:31:47.492402Z",
     "iopub.status.idle": "2022-02-05T22:31:47.501813Z",
     "shell.execute_reply": "2022-02-05T22:31:47.502368Z",
     "shell.execute_reply.started": "2022-02-05T20:58:35.421393Z"
    },
    "papermill": {
     "duration": 0.105486,
     "end_time": "2022-02-05T22:31:47.502583",
     "exception": false,
     "start_time": "2022-02-05T22:31:47.397097",
     "status": "completed"
    },
    "tags": []
   },
   "outputs": [
    {
     "name": "stdout",
     "output_type": "stream",
     "text": [
      "\n",
      "Original Y = \n",
      " [[1 2 3]\n",
      " [4 5 6]\n",
      " [7 8 9]]\n",
      "\n",
      "w = \n",
      " [[4 5 6]\n",
      " [7 8 9]]\n",
      "\n",
      "v = \n",
      " [[2]\n",
      " [5]\n",
      " [8]]\n"
     ]
    }
   ],
   "source": [
    "# We create a rank 2 ndarray\n",
    "Y = np.array([[1,2,3],[4,5,6],[7,8,9]])\n",
    "\n",
    "# We print Y\n",
    "print()\n",
    "print('Original Y = \\n', Y)\n",
    "\n",
    "# We delete the first row of y\n",
    "w = np.delete(Y, 0, axis=0)\n",
    "\n",
    "# We delete the first and last column of y\n",
    "v = np.delete(Y, [0,2], axis=1)\n",
    "\n",
    "# We print w\n",
    "print()\n",
    "print('w = \\n', w)\n",
    "\n",
    "# We print v\n",
    "print()\n",
    "print('v = \\n', v)"
   ]
  },
  {
   "cell_type": "code",
   "execution_count": 46,
   "id": "8fd990b4",
   "metadata": {
    "execution": {
     "iopub.execute_input": "2022-02-05T22:31:47.687909Z",
     "iopub.status.busy": "2022-02-05T22:31:47.687152Z",
     "iopub.status.idle": "2022-02-05T22:31:47.690134Z",
     "shell.execute_reply": "2022-02-05T22:31:47.690715Z",
     "shell.execute_reply.started": "2022-02-05T21:00:51.541839Z"
    },
    "papermill": {
     "duration": 0.095902,
     "end_time": "2022-02-05T22:31:47.690891",
     "exception": false,
     "start_time": "2022-02-05T22:31:47.594989",
     "status": "completed"
    },
    "tags": []
   },
   "outputs": [],
   "source": [
    "# numpy.append\n",
    "\n",
    "# Syntax:\n",
    "\n",
    "# numpy.append(array, values, axis=None)\n",
    "\n",
    "# It appends values to the end of an array."
   ]
  },
  {
   "cell_type": "code",
   "execution_count": 47,
   "id": "af7397fb",
   "metadata": {
    "execution": {
     "iopub.execute_input": "2022-02-05T22:31:47.876632Z",
     "iopub.status.busy": "2022-02-05T22:31:47.875877Z",
     "iopub.status.idle": "2022-02-05T22:31:47.884569Z",
     "shell.execute_reply": "2022-02-05T22:31:47.883923Z",
     "shell.execute_reply.started": "2022-02-05T21:01:24.890462Z"
    },
    "papermill": {
     "duration": 0.101474,
     "end_time": "2022-02-05T22:31:47.884726",
     "exception": false,
     "start_time": "2022-02-05T22:31:47.783252",
     "status": "completed"
    },
    "tags": []
   },
   "outputs": [
    {
     "name": "stdout",
     "output_type": "stream",
     "text": [
      "\n",
      "Original x =  [1 2 3 4 5]\n",
      "\n",
      "x =  [1 2 3 4 5 6]\n",
      "\n",
      "x =  [1 2 3 4 5 6 7 8]\n"
     ]
    }
   ],
   "source": [
    "# We create a rank 1 ndarray \n",
    "x = np.array([1, 2, 3, 4, 5])\n",
    "\n",
    "# We print x\n",
    "print()\n",
    "print('Original x = ', x)\n",
    "\n",
    "# We append the integer 6 to x\n",
    "x = np.append(x, 6)\n",
    "\n",
    "# We print x\n",
    "print()\n",
    "print('x = ', x)\n",
    "\n",
    "# We append the integer 7 and 8 to x\n",
    "x = np.append(x, [7,8])\n",
    "\n",
    "# We print x\n",
    "print()\n",
    "print('x = ', x)\n"
   ]
  },
  {
   "cell_type": "code",
   "execution_count": 48,
   "id": "b40ad5ac",
   "metadata": {
    "execution": {
     "iopub.execute_input": "2022-02-05T22:31:48.081086Z",
     "iopub.status.busy": "2022-02-05T22:31:48.080340Z",
     "iopub.status.idle": "2022-02-05T22:31:48.085111Z",
     "shell.execute_reply": "2022-02-05T22:31:48.084403Z",
     "shell.execute_reply.started": "2022-02-05T21:03:25.712178Z"
    },
    "papermill": {
     "duration": 0.10544,
     "end_time": "2022-02-05T22:31:48.085251",
     "exception": false,
     "start_time": "2022-02-05T22:31:47.979811",
     "status": "completed"
    },
    "tags": []
   },
   "outputs": [
    {
     "name": "stdout",
     "output_type": "stream",
     "text": [
      "\n",
      "Original Y = \n",
      " [[1 2 3]\n",
      " [4 5 6]]\n",
      "\n",
      "v = \n",
      " [[1 2 3]\n",
      " [4 5 6]\n",
      " [7 8 9]]\n",
      "\n",
      "q = \n",
      " [[ 1  2  3  9]\n",
      " [ 4  5  6 10]]\n"
     ]
    }
   ],
   "source": [
    "# We create a rank 2 ndarray \n",
    "Y = np.array([[1,2,3],[4,5,6]])\n",
    "\n",
    "# We print Y\n",
    "print()\n",
    "print('Original Y = \\n', Y)\n",
    "\n",
    "# We append a new row containing 7,8,9 to y\n",
    "v = np.append(Y, [[7,8,9]], axis=0)\n",
    "\n",
    "# We append a new column containing 9 and 10 to y\n",
    "q = np.append(Y,[[9],[10]], axis=1)\n",
    "\n",
    "# We print v\n",
    "print()\n",
    "print('v = \\n', v)\n",
    "\n",
    "# We print q\n",
    "print()\n",
    "print('q = \\n', q)"
   ]
  },
  {
   "cell_type": "code",
   "execution_count": 49,
   "id": "2e9ba3b2",
   "metadata": {
    "execution": {
     "iopub.execute_input": "2022-02-05T22:31:48.269687Z",
     "iopub.status.busy": "2022-02-05T22:31:48.268948Z",
     "iopub.status.idle": "2022-02-05T22:31:48.271806Z",
     "shell.execute_reply": "2022-02-05T22:31:48.272319Z",
     "shell.execute_reply.started": "2022-02-05T21:04:58.218213Z"
    },
    "papermill": {
     "duration": 0.096255,
     "end_time": "2022-02-05T22:31:48.272493",
     "exception": false,
     "start_time": "2022-02-05T22:31:48.176238",
     "status": "completed"
    },
    "tags": []
   },
   "outputs": [],
   "source": [
    "# Insert elements\n",
    "\n",
    "# We can insert values to ndarrays using the\n",
    "# np.insert(ndarray, index, elements, axis) function.\n",
    "# This function inserts the given list of elements \n",
    "# to ndarray right before the given index along the specified axis."
   ]
  },
  {
   "cell_type": "code",
   "execution_count": 50,
   "id": "b64a9618",
   "metadata": {
    "execution": {
     "iopub.execute_input": "2022-02-05T22:31:48.460556Z",
     "iopub.status.busy": "2022-02-05T22:31:48.459854Z",
     "iopub.status.idle": "2022-02-05T22:31:48.466884Z",
     "shell.execute_reply": "2022-02-05T22:31:48.467429Z",
     "shell.execute_reply.started": "2022-02-05T21:05:57.465200Z"
    },
    "papermill": {
     "duration": 0.10343,
     "end_time": "2022-02-05T22:31:48.467643",
     "exception": false,
     "start_time": "2022-02-05T22:31:48.364213",
     "status": "completed"
    },
    "tags": []
   },
   "outputs": [
    {
     "name": "stdout",
     "output_type": "stream",
     "text": [
      "\n",
      "Original x =  [1 2 5 6 7]\n",
      "\n",
      "x =  [1 2 3 4 5 6 7]\n"
     ]
    }
   ],
   "source": [
    "# We create a rank 1 ndarray \n",
    "x = np.array([1, 2, 5, 6, 7])\n",
    "\n",
    "# We print x\n",
    "print()\n",
    "print('Original x = ', x)\n",
    "\n",
    "# We insert the integer 3 and 4 between 2 and 5 in x. \n",
    "x = np.insert(x,2,[3,4])\n",
    "\n",
    "# We print x with the inserted elements\n",
    "print()\n",
    "print('x = ', x)\n"
   ]
  },
  {
   "cell_type": "code",
   "execution_count": 51,
   "id": "d3ba7031",
   "metadata": {
    "execution": {
     "iopub.execute_input": "2022-02-05T22:31:48.656609Z",
     "iopub.status.busy": "2022-02-05T22:31:48.652423Z",
     "iopub.status.idle": "2022-02-05T22:31:48.662471Z",
     "shell.execute_reply": "2022-02-05T22:31:48.661960Z",
     "shell.execute_reply.started": "2022-02-05T21:07:24.381658Z"
    },
    "papermill": {
     "duration": 0.10445,
     "end_time": "2022-02-05T22:31:48.662643",
     "exception": false,
     "start_time": "2022-02-05T22:31:48.558193",
     "status": "completed"
    },
    "tags": []
   },
   "outputs": [
    {
     "name": "stdout",
     "output_type": "stream",
     "text": [
      "\n",
      "Original Y = \n",
      " [[1 2 3]\n",
      " [7 8 9]]\n",
      "\n",
      "w = \n",
      " [[1 2 3]\n",
      " [4 5 6]\n",
      " [7 8 9]]\n",
      "\n",
      "v = \n",
      " [[1 5 2 3]\n",
      " [7 5 8 9]]\n"
     ]
    }
   ],
   "source": [
    "# We create a rank 2 ndarray \n",
    "Y = np.array([[1,2,3],[7,8,9]])\n",
    "\n",
    "# We print Y\n",
    "print()\n",
    "print('Original Y = \\n', Y)\n",
    "\n",
    "# We insert a row between the first and last row of y\n",
    "w = np.insert(Y,1,[4,5,6],axis=0)\n",
    "\n",
    "# We insert a column full of 5s between the first and second column of y\n",
    "v = np.insert(Y,1,5, axis=1)\n",
    "\n",
    "# We print w\n",
    "print()\n",
    "print('w = \\n', w)\n",
    "\n",
    "# We print v\n",
    "print()\n",
    "print('v = \\n', v)"
   ]
  },
  {
   "cell_type": "code",
   "execution_count": 52,
   "id": "9d8f743f",
   "metadata": {
    "execution": {
     "iopub.execute_input": "2022-02-05T22:31:48.879273Z",
     "iopub.status.busy": "2022-02-05T22:31:48.878212Z",
     "iopub.status.idle": "2022-02-05T22:31:48.883014Z",
     "shell.execute_reply": "2022-02-05T22:31:48.882303Z",
     "shell.execute_reply.started": "2022-02-05T21:14:34.652165Z"
    },
    "papermill": {
     "duration": 0.120999,
     "end_time": "2022-02-05T22:31:48.883167",
     "exception": false,
     "start_time": "2022-02-05T22:31:48.762168",
     "status": "completed"
    },
    "tags": []
   },
   "outputs": [],
   "source": [
    "# numpy.hstack and numpy.vstack\n",
    "\n",
    "# Syntax:\n",
    "\n",
    "# numpy.hstack(sequence_of_ndarray)\n",
    "\n",
    "# It returns a stacked array formed by stacking the given arrays\n",
    "# in sequence horizontally (column-wise).\n",
    "\n",
    "# numpy.vstack(sequence_of_ndarray)\n",
    "\n",
    "# It returns a stacked array formed by stacking the given arrays,\n",
    "# will be at least 2-D, in sequence vertically (row-wise). "
   ]
  },
  {
   "cell_type": "code",
   "execution_count": 53,
   "id": "4b184a83",
   "metadata": {
    "execution": {
     "iopub.execute_input": "2022-02-05T22:31:49.078031Z",
     "iopub.status.busy": "2022-02-05T22:31:49.077274Z",
     "iopub.status.idle": "2022-02-05T22:31:49.080255Z",
     "shell.execute_reply": "2022-02-05T22:31:49.079712Z",
     "shell.execute_reply.started": "2022-02-05T21:15:36.221073Z"
    },
    "papermill": {
     "duration": 0.101169,
     "end_time": "2022-02-05T22:31:49.080404",
     "exception": false,
     "start_time": "2022-02-05T22:31:48.979235",
     "status": "completed"
    },
    "tags": []
   },
   "outputs": [],
   "source": [
    "#  It is important to note that in order to stack ndarrays, the shape of the ndarrays must match. "
   ]
  },
  {
   "cell_type": "code",
   "execution_count": 54,
   "id": "1c67e555",
   "metadata": {
    "execution": {
     "iopub.execute_input": "2022-02-05T22:31:49.276673Z",
     "iopub.status.busy": "2022-02-05T22:31:49.275970Z",
     "iopub.status.idle": "2022-02-05T22:31:49.280057Z",
     "shell.execute_reply": "2022-02-05T22:31:49.279549Z",
     "shell.execute_reply.started": "2022-02-05T21:16:11.911148Z"
    },
    "papermill": {
     "duration": 0.105882,
     "end_time": "2022-02-05T22:31:49.280201",
     "exception": false,
     "start_time": "2022-02-05T22:31:49.174319",
     "status": "completed"
    },
    "tags": []
   },
   "outputs": [
    {
     "name": "stdout",
     "output_type": "stream",
     "text": [
      "\n",
      "x =  [1 2]\n",
      "\n",
      "Y = \n",
      " [[3 4]\n",
      " [5 6]]\n",
      "\n",
      "z = \n",
      " [[1 2]\n",
      " [3 4]\n",
      " [5 6]]\n",
      "\n",
      "w = \n",
      " [[3 4 1]\n",
      " [5 6 2]]\n"
     ]
    }
   ],
   "source": [
    "# We create a rank 1 ndarray \n",
    "x = np.array([1,2])\n",
    "\n",
    "# We create a rank 2 ndarray \n",
    "Y = np.array([[3,4],[5,6]])\n",
    "\n",
    "# We print x\n",
    "print()\n",
    "print('x = ', x)\n",
    "\n",
    "# We print Y\n",
    "print()\n",
    "print('Y = \\n', Y)\n",
    "\n",
    "# We stack x on top of Y\n",
    "z = np.vstack((x,Y))\n",
    "\n",
    "# We stack x on the right of Y. We need to reshape x in order to stack it on the right of Y. \n",
    "w = np.hstack((Y,x.reshape(2,1)))\n",
    "\n",
    "# We print z\n",
    "print()\n",
    "print('z = \\n', z)\n",
    "\n",
    "# We print w\n",
    "print()\n",
    "print('w = \\n', w)"
   ]
  },
  {
   "cell_type": "code",
   "execution_count": 55,
   "id": "e4be5d72",
   "metadata": {
    "execution": {
     "iopub.execute_input": "2022-02-05T22:31:49.467058Z",
     "iopub.status.busy": "2022-02-05T22:31:49.466320Z",
     "iopub.status.idle": "2022-02-05T22:31:49.469259Z",
     "shell.execute_reply": "2022-02-05T22:31:49.468692Z",
     "shell.execute_reply.started": "2022-02-05T21:19:34.180594Z"
    },
    "papermill": {
     "duration": 0.097168,
     "end_time": "2022-02-05T22:31:49.469395",
     "exception": false,
     "start_time": "2022-02-05T22:31:49.372227",
     "status": "completed"
    },
    "tags": []
   },
   "outputs": [],
   "source": [
    "# SLICING \n",
    "\n",
    "# three types of slicing:\n",
    "\n",
    "# 1. ndarray[start:end]\n",
    "# 2. ndarray[start:]\n",
    "# 3. ndarray[:end]\n"
   ]
  },
  {
   "cell_type": "code",
   "execution_count": 56,
   "id": "ada32454",
   "metadata": {
    "execution": {
     "iopub.execute_input": "2022-02-05T22:31:49.658876Z",
     "iopub.status.busy": "2022-02-05T22:31:49.658094Z",
     "iopub.status.idle": "2022-02-05T22:31:49.662983Z",
     "shell.execute_reply": "2022-02-05T22:31:49.663522Z",
     "shell.execute_reply.started": "2022-02-05T21:20:38.952067Z"
    },
    "papermill": {
     "duration": 0.102697,
     "end_time": "2022-02-05T22:31:49.663705",
     "exception": false,
     "start_time": "2022-02-05T22:31:49.561008",
     "status": "completed"
    },
    "tags": []
   },
   "outputs": [
    {
     "name": "stdout",
     "output_type": "stream",
     "text": [
      "\n",
      "X = \n",
      " [[ 0  1  2  3  4]\n",
      " [ 5  6  7  8  9]\n",
      " [10 11 12 13 14]\n",
      " [15 16 17 18 19]]\n",
      "\n",
      "Z = \n",
      " [[ 7  8  9]\n",
      " [12 13 14]\n",
      " [17 18 19]]\n",
      "\n",
      "W = \n",
      " [[ 7  8  9]\n",
      " [12 13 14]\n",
      " [17 18 19]]\n"
     ]
    }
   ],
   "source": [
    "#  Slicing in a 2-D ndarray\n",
    "\n",
    "# We create a 4 x 5 ndarray that contains integers from 0 to 19\n",
    "X = np.arange(20).reshape(4, 5)\n",
    "\n",
    "# We print X\n",
    "print()\n",
    "print('X = \\n', X)\n",
    "print()\n",
    "\n",
    "# We select all the elements that are in the 2nd through 4th rows and in the 3rd to 5th columns\n",
    "Z = X[1:4,2:5]\n",
    "\n",
    "# We print Z\n",
    "print('Z = \\n', Z)\n",
    "\n",
    "# We can select the same elements as above using method 2\n",
    "W = X[1:,2:5]\n",
    "\n",
    "# We print W\n",
    "print()\n",
    "print('W = \\n', W)"
   ]
  },
  {
   "cell_type": "code",
   "execution_count": 57,
   "id": "7791dfdb",
   "metadata": {
    "execution": {
     "iopub.execute_input": "2022-02-05T22:31:49.864704Z",
     "iopub.status.busy": "2022-02-05T22:31:49.863064Z",
     "iopub.status.idle": "2022-02-05T22:31:49.870758Z",
     "shell.execute_reply": "2022-02-05T22:31:49.871356Z",
     "shell.execute_reply.started": "2022-02-05T21:23:49.426013Z"
    },
    "papermill": {
     "duration": 0.111526,
     "end_time": "2022-02-05T22:31:49.871625",
     "exception": false,
     "start_time": "2022-02-05T22:31:49.760099",
     "status": "completed"
    },
    "tags": []
   },
   "outputs": [
    {
     "name": "stdout",
     "output_type": "stream",
     "text": [
      "\n",
      "Y = \n",
      " [[ 2  3  4]\n",
      " [ 7  8  9]\n",
      " [12 13 14]]\n",
      "\n",
      "v =  [10 11 12 13 14]\n",
      "\n",
      "q =  [ 2  7 12 17]\n",
      "\n",
      "R = \n",
      " [[ 2]\n",
      " [ 7]\n",
      " [12]\n",
      " [17]]\n"
     ]
    }
   ],
   "source": [
    "# We select all the elements that are in the 1st through 3rd rows and in the 3rd to 4th columns\n",
    "Y = X[:3,2:5]\n",
    "\n",
    "# We print Y\n",
    "print()\n",
    "print('Y = \\n', Y)\n",
    "\n",
    "# We select all the elements in the 3rd row\n",
    "v = X[2,:]\n",
    "\n",
    "# We print v\n",
    "print()\n",
    "print('v = ', v)\n",
    "\n",
    "# We select all the elements in the 3rd column\n",
    "q = X[:,2]\n",
    "\n",
    "# We print q\n",
    "print()\n",
    "print('q = ', q)\n",
    "\n",
    "# We select all the elements in the 3rd column but return a rank 2 ndarray\n",
    "R = X[:,2:3]\n",
    "\n",
    "# We print R\n",
    "print()\n",
    "print('R = \\n', R)"
   ]
  },
  {
   "cell_type": "code",
   "execution_count": 58,
   "id": "2c7e082f",
   "metadata": {
    "execution": {
     "iopub.execute_input": "2022-02-05T22:31:50.080439Z",
     "iopub.status.busy": "2022-02-05T22:31:50.079704Z",
     "iopub.status.idle": "2022-02-05T22:31:50.083875Z",
     "shell.execute_reply": "2022-02-05T22:31:50.083185Z",
     "shell.execute_reply.started": "2022-02-05T21:24:44.659045Z"
    },
    "papermill": {
     "duration": 0.110595,
     "end_time": "2022-02-05T22:31:50.084019",
     "exception": false,
     "start_time": "2022-02-05T22:31:49.973424",
     "status": "completed"
    },
    "tags": []
   },
   "outputs": [
    {
     "name": "stdout",
     "output_type": "stream",
     "text": [
      "\n",
      "X = \n",
      " [[ 0  1  2  3  4]\n",
      " [ 5  6  7  8  9]\n",
      " [10 11 12 13 14]\n",
      " [15 16 17 18 19]]\n",
      "\n",
      "\n",
      "Z = \n",
      " [[ 7  8  9]\n",
      " [12 13 14]\n",
      " [17 18 19]]\n",
      "\n",
      "\n",
      "X = \n",
      " [[  0   1   2   3   4]\n",
      " [  5   6   7   8   9]\n",
      " [ 10  11  12  13  14]\n",
      " [ 15  16  17  18 555]]\n",
      "\n"
     ]
    }
   ],
   "source": [
    "# Slicing and editing elements in a 2-D ndarray\n",
    "\n",
    "# We create a 4 x 5 ndarray that contains integers from 0 to 19\n",
    "X = np.arange(20).reshape(4, 5)\n",
    "\n",
    "# We print X\n",
    "print()\n",
    "print('X = \\n', X)\n",
    "print()\n",
    "\n",
    "# We select all the elements that are in the 2nd through 4th rows and in the 3rd to 4th columns\n",
    "Z = X[1:4,2:5]\n",
    "\n",
    "# We print Z\n",
    "print()\n",
    "print('Z = \\n', Z)\n",
    "print()\n",
    "\n",
    "# We change the last element in Z to 555\n",
    "Z[2,2] = 555\n",
    "\n",
    "# We print X\n",
    "print()\n",
    "print('X = \\n', X)\n",
    "print()\n"
   ]
  },
  {
   "cell_type": "code",
   "execution_count": 59,
   "id": "556ff468",
   "metadata": {
    "execution": {
     "iopub.execute_input": "2022-02-05T22:31:50.281055Z",
     "iopub.status.busy": "2022-02-05T22:31:50.280276Z",
     "iopub.status.idle": "2022-02-05T22:31:50.282791Z",
     "shell.execute_reply": "2022-02-05T22:31:50.282206Z",
     "shell.execute_reply.started": "2022-02-05T21:26:31.388936Z"
    },
    "papermill": {
     "duration": 0.102649,
     "end_time": "2022-02-05T22:31:50.282934",
     "exception": false,
     "start_time": "2022-02-05T22:31:50.180285",
     "status": "completed"
    },
    "tags": []
   },
   "outputs": [],
   "source": [
    "# We can clearly see in the above example that if we make changes to Z, X changes as well."
   ]
  },
  {
   "cell_type": "code",
   "execution_count": 60,
   "id": "83ba9bf6",
   "metadata": {
    "execution": {
     "iopub.execute_input": "2022-02-05T22:31:50.473604Z",
     "iopub.status.busy": "2022-02-05T22:31:50.472892Z",
     "iopub.status.idle": "2022-02-05T22:31:50.476244Z",
     "shell.execute_reply": "2022-02-05T22:31:50.475591Z"
    },
    "papermill": {
     "duration": 0.100032,
     "end_time": "2022-02-05T22:31:50.476385",
     "exception": false,
     "start_time": "2022-02-05T22:31:50.376353",
     "status": "completed"
    },
    "tags": []
   },
   "outputs": [],
   "source": [
    "# numpy.ndarray.copy\n",
    "\n",
    "# Syntax:\n",
    "\n",
    "# ndarray.copy(order='C')\n",
    "\n",
    "# It returns a copy of the array."
   ]
  },
  {
   "cell_type": "code",
   "execution_count": 61,
   "id": "02aa3caf",
   "metadata": {
    "execution": {
     "iopub.execute_input": "2022-02-05T22:31:50.675138Z",
     "iopub.status.busy": "2022-02-05T22:31:50.674404Z",
     "iopub.status.idle": "2022-02-05T22:31:50.678474Z",
     "shell.execute_reply": "2022-02-05T22:31:50.677915Z",
     "shell.execute_reply.started": "2022-02-05T21:29:47.554589Z"
    },
    "papermill": {
     "duration": 0.108785,
     "end_time": "2022-02-05T22:31:50.678637",
     "exception": false,
     "start_time": "2022-02-05T22:31:50.569852",
     "status": "completed"
    },
    "tags": []
   },
   "outputs": [
    {
     "name": "stdout",
     "output_type": "stream",
     "text": [
      "\n",
      "X = \n",
      " [[ 0  1  2  3  4]\n",
      " [ 5  6  7  8  9]\n",
      " [10 11 12 13 14]\n",
      " [15 16 17 18 19]]\n",
      "\n",
      "\n",
      "X = \n",
      " [[ 0  1  2  3  4]\n",
      " [ 5  6  7  8  9]\n",
      " [10 11 12 13 14]\n",
      " [15 16 17 18 19]]\n",
      "\n",
      "Z = \n",
      " [[  7   8   9]\n",
      " [ 12  13  14]\n",
      " [ 17  18 555]]\n",
      "\n",
      "W = \n",
      " [[  7   8   9]\n",
      " [ 12  13  14]\n",
      " [ 17  18 444]]\n"
     ]
    }
   ],
   "source": [
    "# We create a 4 x 5 ndarray that contains integers from 0 to 19\n",
    "X = np.arange(20).reshape(4, 5)\n",
    "\n",
    "# We print X\n",
    "print()\n",
    "print('X = \\n', X)\n",
    "print()\n",
    "\n",
    "# create a copy of the slice using the np.copy() function\n",
    "Z = np.copy(X[1:4,2:5])\n",
    "\n",
    "#  create a copy of the slice using the copy as a method\n",
    "W = X[1:4,2:5].copy()\n",
    "\n",
    "# We change the last element in Z to 555\n",
    "Z[2,2] = 555\n",
    "\n",
    "# We change the last element in W to 444\n",
    "W[2,2] = 444\n",
    "\n",
    "# We print X\n",
    "print()\n",
    "print('X = \\n', X)\n",
    "\n",
    "# We print Z\n",
    "print()\n",
    "print('Z = \\n', Z)\n",
    "\n",
    "# We print W\n",
    "print()\n",
    "print('W = \\n', W)"
   ]
  },
  {
   "cell_type": "code",
   "execution_count": 62,
   "id": "e4ab2a51",
   "metadata": {
    "execution": {
     "iopub.execute_input": "2022-02-05T22:31:50.883639Z",
     "iopub.status.busy": "2022-02-05T22:31:50.882897Z",
     "iopub.status.idle": "2022-02-05T22:31:50.885068Z",
     "shell.execute_reply": "2022-02-05T22:31:50.884547Z",
     "shell.execute_reply.started": "2022-02-05T21:30:55.038239Z"
    },
    "papermill": {
     "duration": 0.104878,
     "end_time": "2022-02-05T22:31:50.885206",
     "exception": false,
     "start_time": "2022-02-05T22:31:50.780328",
     "status": "completed"
    },
    "tags": []
   },
   "outputs": [],
   "source": [
    "# Use an array as indices to either make slices, select, or change elements"
   ]
  },
  {
   "cell_type": "code",
   "execution_count": 63,
   "id": "3febf642",
   "metadata": {
    "execution": {
     "iopub.execute_input": "2022-02-05T22:31:51.090325Z",
     "iopub.status.busy": "2022-02-05T22:31:51.089541Z",
     "iopub.status.idle": "2022-02-05T22:31:51.093378Z",
     "shell.execute_reply": "2022-02-05T22:31:51.092837Z",
     "shell.execute_reply.started": "2022-02-05T21:31:11.276249Z"
    },
    "papermill": {
     "duration": 0.108627,
     "end_time": "2022-02-05T22:31:51.093537",
     "exception": false,
     "start_time": "2022-02-05T22:31:50.984910",
     "status": "completed"
    },
    "tags": []
   },
   "outputs": [
    {
     "name": "stdout",
     "output_type": "stream",
     "text": [
      "\n",
      "X = \n",
      " [[ 0  1  2  3  4]\n",
      " [ 5  6  7  8  9]\n",
      " [10 11 12 13 14]\n",
      " [15 16 17 18 19]]\n",
      "\n",
      "indices =  [1 3]\n",
      "\n",
      "\n",
      "Y = \n",
      " [[ 5  6  7  8  9]\n",
      " [15 16 17 18 19]]\n",
      "\n",
      "Z = \n",
      " [[ 1  3]\n",
      " [ 6  8]\n",
      " [11 13]\n",
      " [16 18]]\n"
     ]
    }
   ],
   "source": [
    "# We create a 4 x 5 ndarray that contains integers from 0 to 19\n",
    "X = np.arange(20).reshape(4, 5)\n",
    "\n",
    "# We create a rank 1 ndarray that will serve as indices to select elements from X\n",
    "indices = np.array([1,3])\n",
    "\n",
    "# We print X\n",
    "print()\n",
    "print('X = \\n', X)\n",
    "print()\n",
    "\n",
    "# We print indices\n",
    "print('indices = ', indices)\n",
    "print()\n",
    "\n",
    "# We use the indices ndarray to select the 2nd and 4th row of X\n",
    "Y = X[indices,:]\n",
    "\n",
    "# We use the indices ndarray to select the 2nd and 4th column of X\n",
    "Z = X[:, indices]\n",
    "\n",
    "# We print Y\n",
    "print()\n",
    "print('Y = \\n', Y)\n",
    "\n",
    "# We print Z\n",
    "print()\n",
    "print('Z = \\n', Z)"
   ]
  },
  {
   "cell_type": "code",
   "execution_count": 64,
   "id": "78f6e5ed",
   "metadata": {
    "execution": {
     "iopub.execute_input": "2022-02-05T22:31:51.293003Z",
     "iopub.status.busy": "2022-02-05T22:31:51.292050Z",
     "iopub.status.idle": "2022-02-05T22:31:51.295167Z",
     "shell.execute_reply": "2022-02-05T22:31:51.294550Z",
     "shell.execute_reply.started": "2022-02-05T21:33:51.525931Z"
    },
    "papermill": {
     "duration": 0.103369,
     "end_time": "2022-02-05T22:31:51.295305",
     "exception": false,
     "start_time": "2022-02-05T22:31:51.191936",
     "status": "completed"
    },
    "tags": []
   },
   "outputs": [],
   "source": [
    "# Use an array as indices to extract specific rows from a rank 2 ndarray."
   ]
  },
  {
   "cell_type": "code",
   "execution_count": 65,
   "id": "d20b9c7d",
   "metadata": {
    "execution": {
     "iopub.execute_input": "2022-02-05T22:31:51.495987Z",
     "iopub.status.busy": "2022-02-05T22:31:51.495181Z",
     "iopub.status.idle": "2022-02-05T22:31:51.498160Z",
     "shell.execute_reply": "2022-02-05T22:31:51.498718Z",
     "shell.execute_reply.started": "2022-02-05T21:36:53.345542Z"
    },
    "papermill": {
     "duration": 0.107734,
     "end_time": "2022-02-05T22:31:51.498903",
     "exception": false,
     "start_time": "2022-02-05T22:31:51.391169",
     "status": "completed"
    },
    "tags": []
   },
   "outputs": [
    {
     "name": "stdout",
     "output_type": "stream",
     "text": [
      "Shape of X is:  (50, 5)\n",
      "Random 10 indices are:  [19 39 12 33 30 16 10 11 40  5]\n"
     ]
    }
   ],
   "source": [
    "# Let's create a rank 2 ndarray\n",
    "X = np.random.randint(1,20, size=(50,5))\n",
    "print(\"Shape of X is: \", X.shape)\n",
    "\n",
    "# Create a rank 1 ndarray that contains a randomly chosen 10 values between `0` to `len(X)` (50)\n",
    "# The row_indices would represent the indices of rows of X\n",
    "row_indices = np.random.randint(0,50, size=10)\n",
    "print(\"Random 10 indices are: \", row_indices)"
   ]
  },
  {
   "cell_type": "code",
   "execution_count": 66,
   "id": "2b9be01e",
   "metadata": {
    "execution": {
     "iopub.execute_input": "2022-02-05T22:31:51.702493Z",
     "iopub.status.busy": "2022-02-05T22:31:51.701590Z",
     "iopub.status.idle": "2022-02-05T22:31:51.705152Z",
     "shell.execute_reply": "2022-02-05T22:31:51.705741Z",
     "shell.execute_reply.started": "2022-02-05T21:38:13.495095Z"
    },
    "papermill": {
     "duration": 0.106546,
     "end_time": "2022-02-05T22:31:51.705926",
     "exception": false,
     "start_time": "2022-02-05T22:31:51.599380",
     "status": "completed"
    },
    "tags": []
   },
   "outputs": [
    {
     "name": "stdout",
     "output_type": "stream",
     "text": [
      "[[ 7 15  7  8 10]\n",
      " [ 2  4  3 19  6]\n",
      " [ 5  9 18  1  5]\n",
      " [15 14  1  9 12]\n",
      " [ 3 17 19 17 18]\n",
      " [ 9 15 12  2  5]\n",
      " [11  2  2 12 19]\n",
      " [11 18 19 12  4]\n",
      " [ 9  2  5 11 13]\n",
      " [ 4  3 16  4  2]]\n"
     ]
    }
   ],
   "source": [
    "# Print those rows of X whose indices are represented by entire row_indices ndarray\n",
    "# Hint - Use the row_indices ndarray to select specified rows of X\n",
    "X_subset = X[row_indices, :]\n",
    "print(X_subset)\n"
   ]
  },
  {
   "cell_type": "code",
   "execution_count": 67,
   "id": "c6dedb11",
   "metadata": {
    "execution": {
     "iopub.execute_input": "2022-02-05T22:31:51.902059Z",
     "iopub.status.busy": "2022-02-05T22:31:51.900873Z",
     "iopub.status.idle": "2022-02-05T22:31:51.907230Z",
     "shell.execute_reply": "2022-02-05T22:31:51.907828Z",
     "shell.execute_reply.started": "2022-02-05T21:38:25.937112Z"
    },
    "papermill": {
     "duration": 0.107375,
     "end_time": "2022-02-05T22:31:51.908019",
     "exception": false,
     "start_time": "2022-02-05T22:31:51.800644",
     "status": "completed"
    },
    "tags": []
   },
   "outputs": [
    {
     "name": "stdout",
     "output_type": "stream",
     "text": [
      "[[ 3 17 19 17 18]\n",
      " [ 9 15 12  2  5]\n",
      " [11  2  2 12 19]\n",
      " [11 18 19 12  4]]\n"
     ]
    }
   ],
   "source": [
    "#  Print those rows of X whose indices are present in row_indices[4:8]\n",
    "X_subset = X[row_indices[4:8], :]\n",
    "print(X_subset)"
   ]
  },
  {
   "cell_type": "code",
   "execution_count": 68,
   "id": "f5b98544",
   "metadata": {
    "execution": {
     "iopub.execute_input": "2022-02-05T22:31:52.111668Z",
     "iopub.status.busy": "2022-02-05T22:31:52.110552Z",
     "iopub.status.idle": "2022-02-05T22:31:52.114254Z",
     "shell.execute_reply": "2022-02-05T22:31:52.114949Z",
     "shell.execute_reply.started": "2022-02-05T21:39:25.366647Z"
    },
    "papermill": {
     "duration": 0.110289,
     "end_time": "2022-02-05T22:31:52.115147",
     "exception": false,
     "start_time": "2022-02-05T22:31:52.004858",
     "status": "completed"
    },
    "tags": []
   },
   "outputs": [],
   "source": [
    "# numpy.diag\n",
    "\n",
    "# Syntax:\n",
    "\n",
    "# numpy.diag(array, k=0)\n",
    "\n",
    "# It extracts or constructs the diagonal elements. "
   ]
  },
  {
   "cell_type": "code",
   "execution_count": 69,
   "id": "41917548",
   "metadata": {
    "execution": {
     "iopub.execute_input": "2022-02-05T22:31:52.314198Z",
     "iopub.status.busy": "2022-02-05T22:31:52.313179Z",
     "iopub.status.idle": "2022-02-05T22:31:52.316770Z",
     "shell.execute_reply": "2022-02-05T22:31:52.317339Z",
     "shell.execute_reply.started": "2022-02-05T21:41:44.406096Z"
    },
    "papermill": {
     "duration": 0.102443,
     "end_time": "2022-02-05T22:31:52.317529",
     "exception": false,
     "start_time": "2022-02-05T22:31:52.215086",
     "status": "completed"
    },
    "tags": []
   },
   "outputs": [],
   "source": [
    "# np.diag(ndarray, k=N) function\n",
    "# extracts the elements along the diagonal defined by N.\n",
    "# As default is k=0, which refers to the main diagonal.\n",
    "# Values of k > 0 are used to select elements in diagonals above the main diagonal,\n",
    "# values of k < 0 are used to select elements in diagonals below the main diagonal."
   ]
  },
  {
   "cell_type": "code",
   "execution_count": 70,
   "id": "d058fec1",
   "metadata": {
    "execution": {
     "iopub.execute_input": "2022-02-05T22:31:52.515867Z",
     "iopub.status.busy": "2022-02-05T22:31:52.514847Z",
     "iopub.status.idle": "2022-02-05T22:31:52.524334Z",
     "shell.execute_reply": "2022-02-05T22:31:52.524909Z",
     "shell.execute_reply.started": "2022-02-05T21:43:03.124694Z"
    },
    "papermill": {
     "duration": 0.111908,
     "end_time": "2022-02-05T22:31:52.525099",
     "exception": false,
     "start_time": "2022-02-05T22:31:52.413191",
     "status": "completed"
    },
    "tags": []
   },
   "outputs": [
    {
     "name": "stdout",
     "output_type": "stream",
     "text": [
      "\n",
      "X = \n",
      " [[ 0  1  2  3  4]\n",
      " [ 5  6  7  8  9]\n",
      " [10 11 12 13 14]\n",
      " [15 16 17 18 19]\n",
      " [20 21 22 23 24]]\n",
      "\n",
      "z = [ 0  6 12 18 24]\n",
      "\n",
      "y = [ 1  7 13 19]\n",
      "\n",
      "w =  [ 5 11 17 23]\n"
     ]
    }
   ],
   "source": [
    "# We create a 4 x 5 ndarray that contains integers from 0 to 24\n",
    "X = np.arange(25).reshape(5, 5)\n",
    "\n",
    "# We print X\n",
    "print()\n",
    "print('X = \\n', X)\n",
    "print()\n",
    "\n",
    "# We print the elements in the main diagonal of X\n",
    "print('z =', np.diag(X))\n",
    "print()\n",
    "\n",
    "# We print the elements above the main diagonal of X\n",
    "print('y =', np.diag(X, k=1))\n",
    "print()\n",
    "\n",
    "# We print the elements below the main diagonal of X\n",
    "print('w = ', np.diag(X, k=-1))"
   ]
  },
  {
   "cell_type": "code",
   "execution_count": 71,
   "id": "685c90ea",
   "metadata": {
    "execution": {
     "iopub.execute_input": "2022-02-05T22:31:52.719805Z",
     "iopub.status.busy": "2022-02-05T22:31:52.718727Z",
     "iopub.status.idle": "2022-02-05T22:31:52.722225Z",
     "shell.execute_reply": "2022-02-05T22:31:52.722996Z",
     "shell.execute_reply.started": "2022-02-05T21:44:00.326221Z"
    },
    "papermill": {
     "duration": 0.102617,
     "end_time": "2022-02-05T22:31:52.723175",
     "exception": false,
     "start_time": "2022-02-05T22:31:52.620558",
     "status": "completed"
    },
    "tags": []
   },
   "outputs": [],
   "source": [
    "# numpy.unique\n",
    "\n",
    "# Syntax:\n",
    "\n",
    "# numpy.unique(array, return_index=False, return_inverse=False, return_counts=False, axis=None)\n",
    "\n",
    "# It returns the sorted unique elements of an array. "
   ]
  },
  {
   "cell_type": "code",
   "execution_count": 72,
   "id": "fff44447",
   "metadata": {
    "execution": {
     "iopub.execute_input": "2022-02-05T22:31:52.924132Z",
     "iopub.status.busy": "2022-02-05T22:31:52.922971Z",
     "iopub.status.idle": "2022-02-05T22:31:52.931751Z",
     "shell.execute_reply": "2022-02-05T22:31:52.932439Z",
     "shell.execute_reply.started": "2022-02-05T21:44:46.484707Z"
    },
    "papermill": {
     "duration": 0.11199,
     "end_time": "2022-02-05T22:31:52.932647",
     "exception": false,
     "start_time": "2022-02-05T22:31:52.820657",
     "status": "completed"
    },
    "tags": []
   },
   "outputs": [
    {
     "name": "stdout",
     "output_type": "stream",
     "text": [
      "\n",
      "X = \n",
      " [[1 2 3]\n",
      " [5 2 8]\n",
      " [1 2 3]]\n",
      "\n",
      "The unique elements in X are: [1 2 3 5 8]\n"
     ]
    }
   ],
   "source": [
    "# Create 3 x 3 ndarray with repeated values\n",
    "X = np.array([[1,2,3],[5,2,8],[1,2,3]])\n",
    "\n",
    "# We print X\n",
    "print()\n",
    "print('X = \\n', X)\n",
    "print()\n",
    "\n",
    "# We print the unique elements of X \n",
    "print('The unique elements in X are:',np.unique(X))"
   ]
  },
  {
   "cell_type": "code",
   "execution_count": 73,
   "id": "3d271764",
   "metadata": {
    "execution": {
     "iopub.execute_input": "2022-02-05T22:31:53.139608Z",
     "iopub.status.busy": "2022-02-05T22:31:53.138833Z",
     "iopub.status.idle": "2022-02-05T22:31:53.141812Z",
     "shell.execute_reply": "2022-02-05T22:31:53.142408Z",
     "shell.execute_reply.started": "2022-02-05T21:45:54.255770Z"
    },
    "papermill": {
     "duration": 0.110165,
     "end_time": "2022-02-05T22:31:53.142616",
     "exception": false,
     "start_time": "2022-02-05T22:31:53.032451",
     "status": "completed"
    },
    "tags": []
   },
   "outputs": [
    {
     "name": "stdout",
     "output_type": "stream",
     "text": [
      "\n",
      "X = \n",
      " [[1 2 3]\n",
      " [5 2 8]\n",
      " [1 2 3]]\n",
      "\n",
      "The unique elements in X are: (array([1, 2, 3, 5, 8]), array([2, 3, 2, 1, 1]))\n"
     ]
    }
   ],
   "source": [
    "# Create 3 x 3 ndarray with repeated values\n",
    "X = np.array([[1,2,3],[5,2,8],[1,2,3]])\n",
    "\n",
    "# We print X\n",
    "print()\n",
    "print('X = \\n', X)\n",
    "print()\n",
    "\n",
    "# We print the unique elements of X \n",
    "print('The unique elements in X are:',np.unique(X,return_counts=True))"
   ]
  },
  {
   "cell_type": "code",
   "execution_count": 74,
   "id": "83a59414",
   "metadata": {
    "execution": {
     "iopub.execute_input": "2022-02-05T22:31:53.341408Z",
     "iopub.status.busy": "2022-02-05T22:31:53.340725Z",
     "iopub.status.idle": "2022-02-05T22:31:53.342845Z",
     "shell.execute_reply": "2022-02-05T22:31:53.343384Z",
     "shell.execute_reply.started": "2022-02-05T21:48:16.304677Z"
    },
    "papermill": {
     "duration": 0.104448,
     "end_time": "2022-02-05T22:31:53.343583",
     "exception": false,
     "start_time": "2022-02-05T22:31:53.239135",
     "status": "completed"
    },
    "tags": []
   },
   "outputs": [],
   "source": [
    "# Boolean indexing\n"
   ]
  },
  {
   "cell_type": "code",
   "execution_count": 75,
   "id": "93a27244",
   "metadata": {
    "execution": {
     "iopub.execute_input": "2022-02-05T22:31:53.547572Z",
     "iopub.status.busy": "2022-02-05T22:31:53.546470Z",
     "iopub.status.idle": "2022-02-05T22:31:53.550111Z",
     "shell.execute_reply": "2022-02-05T22:31:53.550761Z",
     "shell.execute_reply.started": "2022-02-05T21:50:12.344951Z"
    },
    "papermill": {
     "duration": 0.107793,
     "end_time": "2022-02-05T22:31:53.550942",
     "exception": false,
     "start_time": "2022-02-05T22:31:53.443149",
     "status": "completed"
    },
    "tags": []
   },
   "outputs": [],
   "source": [
    "#  we can select elements of an ndarray using indices. \n",
    "# This is useful when we know the exact indices of the elements we want to select.\n",
    "# However,\n",
    "# there are many situations in which we don't know the indices of the elements we want to select.\n",
    "# For example,\n",
    "# suppose we have a 10,000 x 10,000 ndarray of random integers ranging from 1 to 15,000\n",
    "# and we only want to select those integers that are less than 20. \n",
    "\n",
    "# Boolean indexing can help us in these cases,\n",
    "# by allowing us select elements using logical arguments instead of explicit indices."
   ]
  },
  {
   "cell_type": "code",
   "execution_count": 76,
   "id": "0454e72c",
   "metadata": {
    "execution": {
     "iopub.execute_input": "2022-02-05T22:31:53.752091Z",
     "iopub.status.busy": "2022-02-05T22:31:53.751056Z",
     "iopub.status.idle": "2022-02-05T22:31:53.761235Z",
     "shell.execute_reply": "2022-02-05T22:31:53.762089Z",
     "shell.execute_reply.started": "2022-02-05T21:50:37.056659Z"
    },
    "papermill": {
     "duration": 0.114635,
     "end_time": "2022-02-05T22:31:53.762337",
     "exception": false,
     "start_time": "2022-02-05T22:31:53.647702",
     "status": "completed"
    },
    "tags": []
   },
   "outputs": [
    {
     "name": "stdout",
     "output_type": "stream",
     "text": [
      "\n",
      "Original X = \n",
      " [[ 0  1  2  3  4]\n",
      " [ 5  6  7  8  9]\n",
      " [10 11 12 13 14]\n",
      " [15 16 17 18 19]\n",
      " [20 21 22 23 24]]\n",
      "\n",
      "The elements in X that are greater than 10: [11 12 13 14 15 16 17 18 19 20 21 22 23 24]\n",
      "The elements in X that less than or equal to 7: [0 1 2 3 4 5 6 7]\n",
      "The elements in X that are between 10 and 17: [11 12 13 14 15 16]\n",
      "\n",
      "X = \n",
      " [[ 0  1  2  3  4]\n",
      " [ 5  6  7  8  9]\n",
      " [10 -1 -1 -1 -1]\n",
      " [-1 -1 17 18 19]\n",
      " [20 21 22 23 24]]\n",
      "\n"
     ]
    }
   ],
   "source": [
    "# We create a 5 x 5 ndarray that contains integers from 0 to 24\n",
    "X = np.arange(25).reshape(5, 5)\n",
    "\n",
    "# We print X\n",
    "print()\n",
    "print('Original X = \\n', X)\n",
    "print()\n",
    "\n",
    "# We use Boolean indexing to select elements in X:\n",
    "print('The elements in X that are greater than 10:', X[X > 10])\n",
    "print('The elements in X that less than or equal to 7:', X[X <= 7])\n",
    "print('The elements in X that are between 10 and 17:', X[(X > 10) & (X < 17)])\n",
    "\n",
    "# We use Boolean indexing to assign the elements that are between 10 and 17 the value of -1\n",
    "X[(X > 10) & (X < 17)] = -1\n",
    "\n",
    "# We print X\n",
    "print()\n",
    "print('X = \\n', X)\n",
    "print()"
   ]
  },
  {
   "cell_type": "code",
   "execution_count": 77,
   "id": "6328633a",
   "metadata": {
    "execution": {
     "iopub.execute_input": "2022-02-05T22:31:53.969494Z",
     "iopub.status.busy": "2022-02-05T22:31:53.968400Z",
     "iopub.status.idle": "2022-02-05T22:31:53.971866Z",
     "shell.execute_reply": "2022-02-05T22:31:53.970955Z",
     "shell.execute_reply.started": "2022-02-05T21:53:52.625427Z"
    },
    "papermill": {
     "duration": 0.110146,
     "end_time": "2022-02-05T22:31:53.972035",
     "exception": false,
     "start_time": "2022-02-05T22:31:53.861889",
     "status": "completed"
    },
    "tags": []
   },
   "outputs": [],
   "source": [
    "# In addition to Boolean Indexing\n",
    "# NumPy also allows for set operations.\n",
    "# This useful when comparing ndarrays, \n",
    "# for example,\n",
    "# to find common elements between two ndarrays. "
   ]
  },
  {
   "cell_type": "code",
   "execution_count": 78,
   "id": "8ab65ff1",
   "metadata": {
    "execution": {
     "iopub.execute_input": "2022-02-05T22:31:54.182385Z",
     "iopub.status.busy": "2022-02-05T22:31:54.181240Z",
     "iopub.status.idle": "2022-02-05T22:31:54.188034Z",
     "shell.execute_reply": "2022-02-05T22:31:54.189127Z",
     "shell.execute_reply.started": "2022-02-05T21:54:16.885173Z"
    },
    "papermill": {
     "duration": 0.115458,
     "end_time": "2022-02-05T22:31:54.189401",
     "exception": false,
     "start_time": "2022-02-05T22:31:54.073943",
     "status": "completed"
    },
    "tags": []
   },
   "outputs": [
    {
     "name": "stdout",
     "output_type": "stream",
     "text": [
      "\n",
      "x =  [1 2 3 4 5]\n",
      "\n",
      "y =  [6 7 2 8 4]\n",
      "\n",
      "The elements that are both in x and y: [2 4]\n",
      "The elements that are in x that are not in y: [1 3 5]\n",
      "All the elements of x and y: [1 2 3 4 5 6 7 8]\n"
     ]
    }
   ],
   "source": [
    "# We create a rank 1 ndarray\n",
    "x = np.array([1,2,3,4,5])\n",
    "\n",
    "# We create a rank 1 ndarray\n",
    "y = np.array([6,7,2,8,4])\n",
    "\n",
    "# We print x\n",
    "print()\n",
    "print('x = ', x)\n",
    "\n",
    "# We print y\n",
    "print()\n",
    "print('y = ', y)\n",
    "\n",
    "# We use set operations to compare x and y:\n",
    "print()\n",
    "print('The elements that are both in x and y:', np.intersect1d(x,y))\n",
    "print('The elements that are in x that are not in y:', np.setdiff1d(x,y))\n",
    "print('All the elements of x and y:',np.union1d(x,y))"
   ]
  },
  {
   "cell_type": "code",
   "execution_count": 79,
   "id": "957cd274",
   "metadata": {
    "execution": {
     "iopub.execute_input": "2022-02-05T22:31:54.392840Z",
     "iopub.status.busy": "2022-02-05T22:31:54.392123Z",
     "iopub.status.idle": "2022-02-05T22:31:54.395384Z",
     "shell.execute_reply": "2022-02-05T22:31:54.395872Z",
     "shell.execute_reply.started": "2022-02-05T21:56:36.186250Z"
    },
    "papermill": {
     "duration": 0.105069,
     "end_time": "2022-02-05T22:31:54.396061",
     "exception": false,
     "start_time": "2022-02-05T22:31:54.290992",
     "status": "completed"
    },
    "tags": []
   },
   "outputs": [],
   "source": [
    "# numpy.ndarray.sort method\n",
    "\n",
    "# Syntax:\n",
    "\n",
    "# ndarray.sort(axis=-1, kind=None, order=None)\n",
    "\n",
    "# The method above sorts an array in-place."
   ]
  },
  {
   "cell_type": "code",
   "execution_count": 80,
   "id": "d4a500f7",
   "metadata": {
    "execution": {
     "iopub.execute_input": "2022-02-05T22:31:54.594864Z",
     "iopub.status.busy": "2022-02-05T22:31:54.594179Z",
     "iopub.status.idle": "2022-02-05T22:31:54.596826Z",
     "shell.execute_reply": "2022-02-05T22:31:54.597354Z",
     "shell.execute_reply.started": "2022-02-05T21:57:32.554845Z"
    },
    "papermill": {
     "duration": 0.104239,
     "end_time": "2022-02-05T22:31:54.597545",
     "exception": false,
     "start_time": "2022-02-05T22:31:54.493306",
     "status": "completed"
    },
    "tags": []
   },
   "outputs": [],
   "source": [
    "# Like with other functions ,\n",
    "# the sort can be used as a method as well as a function.\n",
    "# The difference lies in how the data is stored in memory in this case. "
   ]
  },
  {
   "cell_type": "code",
   "execution_count": 81,
   "id": "f76c64f3",
   "metadata": {
    "execution": {
     "iopub.execute_input": "2022-02-05T22:31:54.796784Z",
     "iopub.status.busy": "2022-02-05T22:31:54.795703Z",
     "iopub.status.idle": "2022-02-05T22:31:54.799777Z",
     "shell.execute_reply": "2022-02-05T22:31:54.800414Z",
     "shell.execute_reply.started": "2022-02-05T22:00:08.217469Z"
    },
    "papermill": {
     "duration": 0.105595,
     "end_time": "2022-02-05T22:31:54.800648",
     "exception": false,
     "start_time": "2022-02-05T22:31:54.695053",
     "status": "completed"
    },
    "tags": []
   },
   "outputs": [],
   "source": [
    "# \n",
    "#    When numpy.sort() \n",
    "#             is used as a function, \n",
    "#             it sorts the ndrrays out of place,\n",
    "#             meaning, that it doesn't change the original ndarray being sorted.\n",
    "\n",
    "#    when you use numpy.ndarray.sort()\n",
    "#            as a method,\n",
    "#            ndarray.sort() sorts the ndarray in place,\n",
    "#            meaning, that the original array will be changed to the sorted one.\n"
   ]
  },
  {
   "cell_type": "code",
   "execution_count": 82,
   "id": "527400b5",
   "metadata": {
    "execution": {
     "iopub.execute_input": "2022-02-05T22:31:55.004749Z",
     "iopub.status.busy": "2022-02-05T22:31:55.003679Z",
     "iopub.status.idle": "2022-02-05T22:31:55.009012Z",
     "shell.execute_reply": "2022-02-05T22:31:55.009589Z",
     "shell.execute_reply.started": "2022-02-05T22:00:37.725749Z"
    },
    "papermill": {
     "duration": 0.109815,
     "end_time": "2022-02-05T22:31:55.009926",
     "exception": false,
     "start_time": "2022-02-05T22:31:54.900111",
     "status": "completed"
    },
    "tags": []
   },
   "outputs": [
    {
     "name": "stdout",
     "output_type": "stream",
     "text": [
      "\n",
      "Original x =  [8 3 9 2 3 7 3 7 2 8]\n",
      "\n",
      "Sorted x (out of place): [2 2 3 3 3 7 7 8 8 9]\n",
      "\n",
      "x after sorting: [8 3 9 2 3 7 3 7 2 8]\n"
     ]
    }
   ],
   "source": [
    "# Sort arrays using sort() function\n",
    "\n",
    "# We create an unsorted rank 1 ndarray\n",
    "x = np.random.randint(1,11,size=(10,))\n",
    "\n",
    "# We print x\n",
    "print()\n",
    "print('Original x = ', x)\n",
    "\n",
    "# We sort x and print the sorted array using sort as a function.\n",
    "print()\n",
    "print('Sorted x (out of place):', np.sort(x))\n",
    "\n",
    "# When we sort out of place the original array remains intact. To see this we print x again\n",
    "print()\n",
    "print('x after sorting:', x)\n"
   ]
  },
  {
   "cell_type": "code",
   "execution_count": 83,
   "id": "412dfcdd",
   "metadata": {
    "execution": {
     "iopub.execute_input": "2022-02-05T22:31:55.213795Z",
     "iopub.status.busy": "2022-02-05T22:31:55.213072Z",
     "iopub.status.idle": "2022-02-05T22:31:55.219553Z",
     "shell.execute_reply": "2022-02-05T22:31:55.218478Z",
     "shell.execute_reply.started": "2022-02-05T22:03:13.045203Z"
    },
    "papermill": {
     "duration": 0.107932,
     "end_time": "2022-02-05T22:31:55.219897",
     "exception": false,
     "start_time": "2022-02-05T22:31:55.111965",
     "status": "completed"
    },
    "tags": []
   },
   "outputs": [
    {
     "name": "stdout",
     "output_type": "stream",
     "text": [
      "[2 3 7 8 9]\n"
     ]
    }
   ],
   "source": [
    "# Notice that np.sort() sorts the array \n",
    "# but, \n",
    "# if the ndarray being sorted has repeated values,\n",
    "# np.sort() leaves those values in the sorted array. \n",
    "# However, if desired,\n",
    "# we can use the unique() function. Let's see how we can sort the unique elements of x above:\n",
    "\n",
    "# Returns the sorted unique elements of an array\n",
    "print(np.unique(x))\n"
   ]
  },
  {
   "cell_type": "code",
   "execution_count": 84,
   "id": "461b2c48",
   "metadata": {
    "execution": {
     "iopub.execute_input": "2022-02-05T22:31:55.422830Z",
     "iopub.status.busy": "2022-02-05T22:31:55.421915Z",
     "iopub.status.idle": "2022-02-05T22:31:55.429345Z",
     "shell.execute_reply": "2022-02-05T22:31:55.430567Z",
     "shell.execute_reply.started": "2022-02-05T22:04:12.693998Z"
    },
    "papermill": {
     "duration": 0.11045,
     "end_time": "2022-02-05T22:31:55.430902",
     "exception": false,
     "start_time": "2022-02-05T22:31:55.320452",
     "status": "completed"
    },
    "tags": []
   },
   "outputs": [
    {
     "name": "stdout",
     "output_type": "stream",
     "text": [
      "\n",
      "Original x =  [ 9  9  2  5  2  8 10  3  3  7]\n",
      "\n",
      "x after sorting: [ 2  2  3  3  5  7  8  9  9 10]\n"
     ]
    }
   ],
   "source": [
    "# let's see how we can sort ndarrays in place, by using sort as a method:\n",
    "# using sort() method\n",
    "\n",
    "# We create an unsorted rank 1 ndarray\n",
    "x = np.random.randint(1,11,size=(10,))\n",
    "\n",
    "# We print x\n",
    "print()\n",
    "print('Original x = ', x)\n",
    "\n",
    "# We sort x and print the sorted array using sort as a method.\n",
    "x.sort()\n",
    "\n",
    "# When we sort in place the original array is changed to the sorted array. To see this we print x again\n",
    "print()\n",
    "print('x after sorting:', x)\n"
   ]
  },
  {
   "cell_type": "code",
   "execution_count": 85,
   "id": "17245a1c",
   "metadata": {
    "execution": {
     "iopub.execute_input": "2022-02-05T22:31:55.634096Z",
     "iopub.status.busy": "2022-02-05T22:31:55.633371Z",
     "iopub.status.idle": "2022-02-05T22:31:55.642156Z",
     "shell.execute_reply": "2022-02-05T22:31:55.642850Z",
     "shell.execute_reply.started": "2022-02-05T22:07:53.577590Z"
    },
    "papermill": {
     "duration": 0.111343,
     "end_time": "2022-02-05T22:31:55.643036",
     "exception": false,
     "start_time": "2022-02-05T22:31:55.531693",
     "status": "completed"
    },
    "tags": []
   },
   "outputs": [
    {
     "name": "stdout",
     "output_type": "stream",
     "text": [
      "\n",
      "Original X = \n",
      " [[ 7  4  2  4  7]\n",
      " [ 3  6 10  5  4]\n",
      " [ 6  8  5 10  1]\n",
      " [ 4  4  1  2  5]\n",
      " [ 8  5  9 10  1]]\n",
      "\n",
      "\n",
      "X with sorted columns :\n",
      " [[ 3  4  1  2  1]\n",
      " [ 4  4  2  4  1]\n",
      " [ 6  5  5  5  4]\n",
      " [ 7  6  9 10  5]\n",
      " [ 8  8 10 10  7]]\n",
      "\n",
      "X with sorted rows :\n",
      " [[ 2  4  4  7  7]\n",
      " [ 3  4  5  6 10]\n",
      " [ 1  5  6  8 10]\n",
      " [ 1  2  4  4  5]\n",
      " [ 1  5  8  9 10]]\n"
     ]
    }
   ],
   "source": [
    "# We create an unsorted rank 2 ndarray\n",
    "X = np.random.randint(1,11,size=(5,5))\n",
    "\n",
    "# We print X\n",
    "print()\n",
    "print('Original X = \\n', X)\n",
    "print()\n",
    "\n",
    "# We sort the columns of X and print the sorted array\n",
    "print()\n",
    "print('X with sorted columns :\\n', np.sort(X, axis = 0))\n",
    "\n",
    "# We sort the rows of X and print the sorted array\n",
    "print()\n",
    "print('X with sorted rows :\\n', np.sort(X, axis = 1))"
   ]
  },
  {
   "cell_type": "code",
   "execution_count": 86,
   "id": "b6ad3554",
   "metadata": {
    "execution": {
     "iopub.execute_input": "2022-02-05T22:31:55.849125Z",
     "iopub.status.busy": "2022-02-05T22:31:55.848151Z",
     "iopub.status.idle": "2022-02-05T22:31:55.856566Z",
     "shell.execute_reply": "2022-02-05T22:31:55.857123Z",
     "shell.execute_reply.started": "2022-02-05T22:15:34.814093Z"
    },
    "papermill": {
     "duration": 0.115585,
     "end_time": "2022-02-05T22:31:55.857306",
     "exception": false,
     "start_time": "2022-02-05T22:31:55.741721",
     "status": "completed"
    },
    "tags": []
   },
   "outputs": [
    {
     "name": "stdout",
     "output_type": "stream",
     "text": [
      "\n",
      "x =  [1 2 3 4]\n",
      "\n",
      "y =  [5.5 6.5 7.5 8.5]\n",
      "\n",
      "x + y =  [ 6.5  8.5 10.5 12.5]\n",
      "add(x,y) =  [ 6.5  8.5 10.5 12.5]\n",
      "\n",
      "x - y =  [-4.5 -4.5 -4.5 -4.5]\n",
      "subtract(x,y) =  [-4.5 -4.5 -4.5 -4.5]\n",
      "\n",
      "x * y =  [ 5.5 13.  22.5 34. ]\n",
      "multiply(x,y) =  [ 5.5 13.  22.5 34. ]\n",
      "\n",
      "x / y =  [0.18181818 0.30769231 0.4        0.47058824]\n",
      "divide(x,y) =  [0.18181818 0.30769231 0.4        0.47058824]\n"
     ]
    }
   ],
   "source": [
    "# Element-wise arithmetic operations on 1-D arrays\n",
    "\n",
    "# We create two rank 1 ndarrays\n",
    "x = np.array([1,2,3,4])\n",
    "y = np.array([5.5,6.5,7.5,8.5])\n",
    "\n",
    "# We print x\n",
    "print()\n",
    "print('x = ', x)\n",
    "\n",
    "# We print y\n",
    "print()\n",
    "print('y = ', y)\n",
    "print()\n",
    "\n",
    "# We perfrom basic element-wise operations using arithmetic symbols and functions\n",
    "print('x + y = ', x + y)\n",
    "print('add(x,y) = ', np.add(x,y))\n",
    "print()\n",
    "print('x - y = ', x - y)\n",
    "print('subtract(x,y) = ', np.subtract(x,y))\n",
    "print()\n",
    "print('x * y = ', x * y)\n",
    "print('multiply(x,y) = ', np.multiply(x,y))\n",
    "print()\n",
    "print('x / y = ', x / y)\n",
    "print('divide(x,y) = ', np.divide(x,y))\n"
   ]
  },
  {
   "cell_type": "code",
   "execution_count": 87,
   "id": "1a2a56ad",
   "metadata": {
    "execution": {
     "iopub.execute_input": "2022-02-05T22:31:56.059862Z",
     "iopub.status.busy": "2022-02-05T22:31:56.059141Z",
     "iopub.status.idle": "2022-02-05T22:31:56.075836Z",
     "shell.execute_reply": "2022-02-05T22:31:56.075260Z",
     "shell.execute_reply.started": "2022-02-05T22:17:01.003854Z"
    },
    "papermill": {
     "duration": 0.118955,
     "end_time": "2022-02-05T22:31:56.076001",
     "exception": false,
     "start_time": "2022-02-05T22:31:55.957046",
     "status": "completed"
    },
    "tags": []
   },
   "outputs": [
    {
     "name": "stdout",
     "output_type": "stream",
     "text": [
      "\n",
      "X = \n",
      " [[1 2]\n",
      " [3 4]]\n",
      "\n",
      "Y = \n",
      " [[5.5 6.5]\n",
      " [7.5 8.5]]\n",
      "\n",
      "X + Y = \n",
      " [[ 6.5  8.5]\n",
      " [10.5 12.5]]\n",
      "\n",
      "add(X,Y) = \n",
      " [[ 6.5  8.5]\n",
      " [10.5 12.5]]\n",
      "\n",
      "X - Y = \n",
      " [[-4.5 -4.5]\n",
      " [-4.5 -4.5]]\n",
      "\n",
      "subtract(X,Y) = \n",
      " [[-4.5 -4.5]\n",
      " [-4.5 -4.5]]\n",
      "\n",
      "X * Y = \n",
      " [[ 5.5 13. ]\n",
      " [22.5 34. ]]\n",
      "\n",
      "multiply(X,Y) = \n",
      " [[ 5.5 13. ]\n",
      " [22.5 34. ]]\n",
      "\n",
      "X / Y = \n",
      " [[0.18181818 0.30769231]\n",
      " [0.4        0.47058824]]\n",
      "\n",
      "divide(X,Y) = \n",
      " [[0.18181818 0.30769231]\n",
      " [0.4        0.47058824]]\n"
     ]
    }
   ],
   "source": [
    "# Element-wise arithmetic operations on a 2-D array (Same shape)\n",
    "\n",
    "# We create two rank 2 ndarrays\n",
    "X = np.array([1,2,3,4]).reshape(2,2)\n",
    "Y = np.array([5.5,6.5,7.5,8.5]).reshape(2,2)\n",
    "\n",
    "# We print X\n",
    "print()\n",
    "print('X = \\n', X)\n",
    "\n",
    "# We print Y\n",
    "print()\n",
    "print('Y = \\n', Y)\n",
    "print()\n",
    "\n",
    "# We perform basic element-wise operations using arithmetic symbols and functions\n",
    "print('X + Y = \\n', X + Y)\n",
    "print()\n",
    "print('add(X,Y) = \\n', np.add(X,Y))\n",
    "print()\n",
    "print('X - Y = \\n', X - Y)\n",
    "print()\n",
    "print('subtract(X,Y) = \\n', np.subtract(X,Y))\n",
    "print()\n",
    "print('X * Y = \\n', X * Y)\n",
    "print()\n",
    "print('multiply(X,Y) = \\n', np.multiply(X,Y))\n",
    "print()\n",
    "print('X / Y = \\n', X / Y)\n",
    "print()\n",
    "print('divide(X,Y) = \\n', np.divide(X,Y))\n"
   ]
  },
  {
   "cell_type": "code",
   "execution_count": 88,
   "id": "f79a2158",
   "metadata": {
    "execution": {
     "iopub.execute_input": "2022-02-05T22:31:56.283391Z",
     "iopub.status.busy": "2022-02-05T22:31:56.282429Z",
     "iopub.status.idle": "2022-02-05T22:31:56.288153Z",
     "shell.execute_reply": "2022-02-05T22:31:56.286973Z",
     "shell.execute_reply.started": "2022-02-05T22:18:25.106048Z"
    },
    "papermill": {
     "duration": 0.111814,
     "end_time": "2022-02-05T22:31:56.288467",
     "exception": false,
     "start_time": "2022-02-05T22:31:56.176653",
     "status": "completed"
    },
    "tags": []
   },
   "outputs": [
    {
     "name": "stdout",
     "output_type": "stream",
     "text": [
      "\n",
      "x =  [1 2 3 4]\n",
      "\n",
      "EXP(x) = [ 2.71828183  7.3890561  20.08553692 54.59815003]\n",
      "\n",
      "SQRT(x) = [1.         1.41421356 1.73205081 2.        ]\n",
      "\n",
      "POW(x,2) = [ 1  4  9 16]\n"
     ]
    }
   ],
   "source": [
    "#  Additional mathematical functions\n",
    "\n",
    "# We create a rank 1 ndarray\n",
    "x = np.array([1,2,3,4])\n",
    "\n",
    "# We print x\n",
    "print()\n",
    "print('x = ', x)\n",
    "\n",
    "# We apply different mathematical functions to all elements of x\n",
    "print()\n",
    "print('EXP(x) =', np.exp(x))\n",
    "print()\n",
    "print('SQRT(x) =',np.sqrt(x))\n",
    "print()\n",
    "print('POW(x,2) =',np.power(x,2)) # We raise all elements to the power of 2\n"
   ]
  },
  {
   "cell_type": "code",
   "execution_count": 89,
   "id": "b08da0e9",
   "metadata": {
    "execution": {
     "iopub.execute_input": "2022-02-05T22:31:56.515767Z",
     "iopub.status.busy": "2022-02-05T22:31:56.514653Z",
     "iopub.status.idle": "2022-02-05T22:31:56.517487Z",
     "shell.execute_reply": "2022-02-05T22:31:56.516865Z",
     "shell.execute_reply.started": "2022-02-05T22:19:58.713743Z"
    },
    "papermill": {
     "duration": 0.123187,
     "end_time": "2022-02-05T22:31:56.517668",
     "exception": false,
     "start_time": "2022-02-05T22:31:56.394481",
     "status": "completed"
    },
    "tags": []
   },
   "outputs": [],
   "source": [
    "# STATISTICS FUNCTIONS\n",
    "\n",
    "# Statistical functions provide us with statistical information about the elements in an ndarray. "
   ]
  },
  {
   "cell_type": "code",
   "execution_count": 90,
   "id": "2d1fb20c",
   "metadata": {
    "execution": {
     "iopub.execute_input": "2022-02-05T22:31:56.738848Z",
     "iopub.status.busy": "2022-02-05T22:31:56.737812Z",
     "iopub.status.idle": "2022-02-05T22:31:56.740603Z",
     "shell.execute_reply": "2022-02-05T22:31:56.740096Z",
     "shell.execute_reply.started": "2022-02-05T22:21:17.706809Z"
    },
    "papermill": {
     "duration": 0.117474,
     "end_time": "2022-02-05T22:31:56.740751",
     "exception": false,
     "start_time": "2022-02-05T22:31:56.623277",
     "status": "completed"
    },
    "tags": []
   },
   "outputs": [],
   "source": [
    "# Note \n",
    "# Most of the statistical operations can be done using either a function or an equivalent method. \n",
    "# For example,\n",
    "# both numpy.mean function and numpy.ndarray.mean method \n",
    "# will return the arithmetic mean of the array elements along the given axis."
   ]
  },
  {
   "cell_type": "code",
   "execution_count": 91,
   "id": "d819ffa9",
   "metadata": {
    "execution": {
     "iopub.execute_input": "2022-02-05T22:31:56.942014Z",
     "iopub.status.busy": "2022-02-05T22:31:56.941000Z",
     "iopub.status.idle": "2022-02-05T22:31:56.950410Z",
     "shell.execute_reply": "2022-02-05T22:31:56.951165Z",
     "shell.execute_reply.started": "2022-02-05T22:22:00.073856Z"
    },
    "papermill": {
     "duration": 0.111777,
     "end_time": "2022-02-05T22:31:56.951349",
     "exception": false,
     "start_time": "2022-02-05T22:31:56.839572",
     "status": "completed"
    },
    "tags": []
   },
   "outputs": [
    {
     "name": "stdout",
     "output_type": "stream",
     "text": [
      "\n",
      "X = \n",
      " [[1 2]\n",
      " [3 4]]\n",
      "\n",
      "Average of all elements in X: 2.5\n",
      "Average of all elements in the columns of X: [2. 3.]\n",
      "Average of all elements in the rows of X: [1.5 3.5]\n"
     ]
    }
   ],
   "source": [
    "# We create a 2 x 2 ndarray\n",
    "X = np.array([[1,2], [3,4]])\n",
    "\n",
    "# We print x\n",
    "print()\n",
    "print('X = \\n', X)\n",
    "print()\n",
    "\n",
    "print('Average of all elements in X:', X.mean())\n",
    "print('Average of all elements in the columns of X:', X.mean(axis=0))\n",
    "print('Average of all elements in the rows of X:', X.mean(axis=1))"
   ]
  },
  {
   "cell_type": "code",
   "execution_count": 92,
   "id": "d19eaffc",
   "metadata": {
    "execution": {
     "iopub.execute_input": "2022-02-05T22:31:57.155552Z",
     "iopub.status.busy": "2022-02-05T22:31:57.154549Z",
     "iopub.status.idle": "2022-02-05T22:31:57.162776Z",
     "shell.execute_reply": "2022-02-05T22:31:57.163280Z",
     "shell.execute_reply.started": "2022-02-05T22:23:36.042427Z"
    },
    "papermill": {
     "duration": 0.11284,
     "end_time": "2022-02-05T22:31:57.163467",
     "exception": false,
     "start_time": "2022-02-05T22:31:57.050627",
     "status": "completed"
    },
    "tags": []
   },
   "outputs": [
    {
     "name": "stdout",
     "output_type": "stream",
     "text": [
      "\n",
      "X = \n",
      " [[1 2]\n",
      " [3 4]]\n",
      "Sum of all elements in X: 10\n",
      "Sum of all elements in the columns of X: [4 6]\n",
      "Sum of all elements in the rows of X: [3 7]\n"
     ]
    }
   ],
   "source": [
    "X = np.array([[1,2], [3,4]])\n",
    "\n",
    "# We print x\n",
    "print()\n",
    "print('X = \\n', X)\n",
    "\n",
    "print('Sum of all elements in X:', X.sum())\n",
    "print('Sum of all elements in the columns of X:', X.sum(axis=0))\n",
    "print('Sum of all elements in the rows of X:', X.sum(axis=1))"
   ]
  },
  {
   "cell_type": "code",
   "execution_count": 93,
   "id": "fbf941c7",
   "metadata": {
    "execution": {
     "iopub.execute_input": "2022-02-05T22:31:57.368639Z",
     "iopub.status.busy": "2022-02-05T22:31:57.367476Z",
     "iopub.status.idle": "2022-02-05T22:31:57.373335Z",
     "shell.execute_reply": "2022-02-05T22:31:57.373921Z",
     "shell.execute_reply.started": "2022-02-05T22:24:19.927361Z"
    },
    "papermill": {
     "duration": 0.110991,
     "end_time": "2022-02-05T22:31:57.374105",
     "exception": false,
     "start_time": "2022-02-05T22:31:57.263114",
     "status": "completed"
    },
    "tags": []
   },
   "outputs": [
    {
     "name": "stdout",
     "output_type": "stream",
     "text": [
      "\n",
      "X = \n",
      " [[1 2]\n",
      " [3 4]]\n",
      "Standard Deviation of all elements in X: 1.118033988749895\n",
      "Standard Deviation of all elements in the columns of X: [1. 1.]\n",
      "Standard Deviation of all elements in the rows of X: [0.5 0.5]\n"
     ]
    }
   ],
   "source": [
    "X = np.array([[1,2], [3,4]])\n",
    "\n",
    "# We print x\n",
    "print()\n",
    "print('X = \\n', X)\n",
    "\n",
    "print('Standard Deviation of all elements in X:', X.std())\n",
    "print('Standard Deviation of all elements in the columns of X:', X.std(axis=0))\n",
    "print('Standard Deviation of all elements in the rows of X:', X.std(axis=1))"
   ]
  },
  {
   "cell_type": "code",
   "execution_count": 94,
   "id": "3bf77b66",
   "metadata": {
    "execution": {
     "iopub.execute_input": "2022-02-05T22:31:57.578650Z",
     "iopub.status.busy": "2022-02-05T22:31:57.577965Z",
     "iopub.status.idle": "2022-02-05T22:31:57.588960Z",
     "shell.execute_reply": "2022-02-05T22:31:57.588334Z",
     "shell.execute_reply.started": "2022-02-05T22:24:55.366380Z"
    },
    "papermill": {
     "duration": 0.113102,
     "end_time": "2022-02-05T22:31:57.589123",
     "exception": false,
     "start_time": "2022-02-05T22:31:57.476021",
     "status": "completed"
    },
    "tags": []
   },
   "outputs": [
    {
     "name": "stdout",
     "output_type": "stream",
     "text": [
      "\n",
      "X = \n",
      " [[1 2]\n",
      " [3 4]]\n",
      "Median of all elements in X: 2.5\n",
      "Median of all elements in the columns of X: [2. 3.]\n",
      "Median of all elements in the rows of X: [1.5 3.5]\n"
     ]
    }
   ],
   "source": [
    "X = np.array([[1,2], [3,4]])\n",
    "\n",
    "# We print x\n",
    "print()\n",
    "print('X = \\n', X)\n",
    "\n",
    "print('Median of all elements in X:', np.median(X))\n",
    "print('Median of all elements in the columns of X:', np.median(X,axis=0))\n",
    "print('Median of all elements in the rows of X:', np.median(X,axis=1))"
   ]
  },
  {
   "cell_type": "code",
   "execution_count": 95,
   "id": "abee9c3f",
   "metadata": {
    "execution": {
     "iopub.execute_input": "2022-02-05T22:31:57.796851Z",
     "iopub.status.busy": "2022-02-05T22:31:57.796124Z",
     "iopub.status.idle": "2022-02-05T22:31:57.804032Z",
     "shell.execute_reply": "2022-02-05T22:31:57.804555Z",
     "shell.execute_reply.started": "2022-02-05T22:26:01.193733Z"
    },
    "papermill": {
     "duration": 0.114536,
     "end_time": "2022-02-05T22:31:57.804739",
     "exception": false,
     "start_time": "2022-02-05T22:31:57.690203",
     "status": "completed"
    },
    "tags": []
   },
   "outputs": [
    {
     "name": "stdout",
     "output_type": "stream",
     "text": [
      "\n",
      "X = \n",
      " [[1 2]\n",
      " [3 4]]\n",
      "Maximum value of all elements in X: 4\n",
      "Maximum value of all elements in the columns of X: [3 4]\n",
      "Maximum value of all elements in the rows of X: [2 4]\n"
     ]
    }
   ],
   "source": [
    "X = np.array([[1,2], [3,4]])\n",
    "\n",
    "# We print x\n",
    "print()\n",
    "print('X = \\n', X)\n",
    "\n",
    "print('Maximum value of all elements in X:', X.max())\n",
    "print('Maximum value of all elements in the columns of X:', X.max(axis=0))\n",
    "print('Maximum value of all elements in the rows of X:', X.max(axis=1))"
   ]
  },
  {
   "cell_type": "code",
   "execution_count": 96,
   "id": "a0f00dc2",
   "metadata": {
    "execution": {
     "iopub.execute_input": "2022-02-05T22:31:58.013193Z",
     "iopub.status.busy": "2022-02-05T22:31:58.012434Z",
     "iopub.status.idle": "2022-02-05T22:31:58.019969Z",
     "shell.execute_reply": "2022-02-05T22:31:58.020640Z",
     "shell.execute_reply.started": "2022-02-05T22:26:29.785004Z"
    },
    "papermill": {
     "duration": 0.113348,
     "end_time": "2022-02-05T22:31:58.020826",
     "exception": false,
     "start_time": "2022-02-05T22:31:57.907478",
     "status": "completed"
    },
    "tags": []
   },
   "outputs": [
    {
     "name": "stdout",
     "output_type": "stream",
     "text": [
      "\n",
      "X = \n",
      " [[1 2]\n",
      " [3 4]]\n",
      "Minimum value of all elements in X: 1\n",
      "Minimum value of all elements in the columns of X: [1 2]\n",
      "Minimum value of all elements in the rows of X: [1 3]\n"
     ]
    }
   ],
   "source": [
    "X = np.array([[1,2], [3,4]])\n",
    "\n",
    "# We print x\n",
    "print()\n",
    "print('X = \\n', X)\n",
    "\n",
    "print('Minimum value of all elements in X:', X.min())\n",
    "print('Minimum value of all elements in the columns of X:', X.min(axis=0))\n",
    "print('Minimum value of all elements in the rows of X:', X.min(axis=1))"
   ]
  },
  {
   "cell_type": "code",
   "execution_count": 97,
   "id": "aa801a27",
   "metadata": {
    "execution": {
     "iopub.execute_input": "2022-02-05T22:31:58.229015Z",
     "iopub.status.busy": "2022-02-05T22:31:58.228273Z",
     "iopub.status.idle": "2022-02-05T22:31:58.237275Z",
     "shell.execute_reply": "2022-02-05T22:31:58.237889Z",
     "shell.execute_reply.started": "2022-02-05T22:28:00.135229Z"
    },
    "papermill": {
     "duration": 0.114766,
     "end_time": "2022-02-05T22:31:58.238077",
     "exception": false,
     "start_time": "2022-02-05T22:31:58.123311",
     "status": "completed"
    },
    "tags": []
   },
   "outputs": [
    {
     "name": "stdout",
     "output_type": "stream",
     "text": [
      "\n",
      "X = \n",
      " [[1 2]\n",
      " [3 4]]\n",
      "\n",
      "3 * X = \n",
      " [[ 3  6]\n",
      " [ 9 12]]\n",
      "\n",
      "3 + X = \n",
      " [[4 5]\n",
      " [6 7]]\n",
      "\n",
      "X - 3 = \n",
      " [[-2 -1]\n",
      " [ 0  1]]\n",
      "\n",
      "X / 3 = \n",
      " [[0.33333333 0.66666667]\n",
      " [1.         1.33333333]]\n"
     ]
    }
   ],
   "source": [
    "# let's see how NumPy can add single numbers to all the elements of an ndarray\n",
    "# without the use of complicated loops.\n",
    "# Change value of all elements of an array\n",
    "\n",
    "# We create a 2 x 2 ndarray\n",
    "X = np.array([[1,2], [3,4]])\n",
    "\n",
    "# We print x\n",
    "print()\n",
    "print('X = \\n', X)\n",
    "print()\n",
    "\n",
    "print('3 * X = \\n', 3 * X)\n",
    "print()\n",
    "print('3 + X = \\n', 3 + X)\n",
    "print()\n",
    "print('X - 3 = \\n', X - 3)\n",
    "print()\n",
    "print('X / 3 = \\n', X / 3)\n"
   ]
  },
  {
   "cell_type": "code",
   "execution_count": 98,
   "id": "1561136b",
   "metadata": {
    "execution": {
     "iopub.execute_input": "2022-02-05T22:31:58.453738Z",
     "iopub.status.busy": "2022-02-05T22:31:58.452274Z",
     "iopub.status.idle": "2022-02-05T22:31:58.458253Z",
     "shell.execute_reply": "2022-02-05T22:31:58.458771Z",
     "shell.execute_reply.started": "2022-02-05T22:29:41.628747Z"
    },
    "papermill": {
     "duration": 0.117824,
     "end_time": "2022-02-05T22:31:58.458958",
     "exception": false,
     "start_time": "2022-02-05T22:31:58.341134",
     "status": "completed"
    },
    "tags": []
   },
   "outputs": [
    {
     "name": "stdout",
     "output_type": "stream",
     "text": [
      "\n",
      "x =  [1 2 3]\n",
      "\n",
      "\n",
      "Y = \n",
      " [[1 2 3]\n",
      " [4 5 6]\n",
      " [7 8 9]]\n",
      "\n",
      "\n",
      "Z = \n",
      " [[1]\n",
      " [2]\n",
      " [3]]\n",
      "\n",
      "x + Y = \n",
      " [[ 2  4  6]\n",
      " [ 5  7  9]\n",
      " [ 8 10 12]]\n",
      "\n",
      "Z + Y = \n",
      " [[ 2  3  4]\n",
      " [ 6  7  8]\n",
      " [10 11 12]]\n"
     ]
    }
   ],
   "source": [
    "# Arithmetic operations on 2-D arrays (Compatible shape)\n",
    "\n",
    "# We create a rank 1 ndarray\n",
    "x = np.array([1,2,3])\n",
    "\n",
    "# We create a 3 x 3 ndarray\n",
    "Y = np.array([[1,2,3],[4,5,6],[7,8,9]])\n",
    "\n",
    "# We create a 3 x 1 ndarray\n",
    "Z = np.array([1,2,3]).reshape(3,1)\n",
    "\n",
    "# We print x\n",
    "print()\n",
    "print('x = ', x)\n",
    "print()\n",
    "\n",
    "# We print Y\n",
    "print()\n",
    "print('Y = \\n', Y)\n",
    "print()\n",
    "\n",
    "# We print Z\n",
    "print()\n",
    "print('Z = \\n', Z)\n",
    "print()\n",
    "\n",
    "print('x + Y = \\n', x + Y)\n",
    "print()\n",
    "print('Z + Y = \\n',Z + Y)\n"
   ]
  },
  {
   "cell_type": "code",
   "execution_count": null,
   "id": "f2ec2b66",
   "metadata": {
    "papermill": {
     "duration": 0.100926,
     "end_time": "2022-02-05T22:31:58.663703",
     "exception": false,
     "start_time": "2022-02-05T22:31:58.562777",
     "status": "completed"
    },
    "tags": []
   },
   "outputs": [],
   "source": []
  }
 ],
 "metadata": {
  "kernelspec": {
   "display_name": "Python 3",
   "language": "python",
   "name": "python3"
  },
  "language_info": {
   "codemirror_mode": {
    "name": "ipython",
    "version": 3
   },
   "file_extension": ".py",
   "mimetype": "text/x-python",
   "name": "python",
   "nbconvert_exporter": "python",
   "pygments_lexer": "ipython3",
   "version": "3.7.12"
  },
  "papermill": {
   "default_parameters": {},
   "duration": 52.314418,
   "end_time": "2022-02-05T22:31:59.377938",
   "environment_variables": {},
   "exception": null,
   "input_path": "__notebook__.ipynb",
   "output_path": "__notebook__.ipynb",
   "parameters": {},
   "start_time": "2022-02-05T22:31:07.063520",
   "version": "2.3.3"
  }
 },
 "nbformat": 4,
 "nbformat_minor": 5
}
